{
 "cells": [
  {
   "cell_type": "markdown",
   "id": "3d53f229",
   "metadata": {
    "slideshow": {
     "slide_type": "slide"
    }
   },
   "source": [
    "# Communicate Data Findings Project\n"
   ]
  },
  {
   "cell_type": "markdown",
   "id": "7e8e6b00",
   "metadata": {
    "slideshow": {
     "slide_type": "slide"
    }
   },
   "source": [
    "This project has two parts that demonstrate the importance and value of data visualization techniques in the data analysis process. In the first part, you will use Python visualization libraries to systematically explore a selected dataset, starting from plots of single variables and building up to plots of multiple variables. In the second part, you will produce a short presentation that illustrates interesting properties, trends, and relationships that you discovered in your selected dataset. The primary method of conveying your findings will be through transforming your exploratory visualizations from the first part into polished, explanatory visualizations."
   ]
  },
  {
   "cell_type": "markdown",
   "id": "8346b2e8",
   "metadata": {
    "slideshow": {
     "slide_type": "slide"
    }
   },
   "source": [
    "# Ford GoBike System"
   ]
  },
  {
   "cell_type": "markdown",
   "id": "f1369609",
   "metadata": {
    "slideshow": {
     "slide_type": "slide"
    }
   },
   "source": [
    "This data set represents trips taken by members of the Ford Go Bike service for month of February of 2019.\n",
    "Data consists of info about trips taken by service's members,types,age, gender, stations of staThis data set represents trips taken by members of the Ford Go Bike service for month of February of 2019.\n",
    "Data consists of info about trips taken by service's members,types,age, gender, stations of starting and ending trips, duration of trips etc.rting and ending trips, duration of trips etc."
   ]
  },
  {
   "cell_type": "markdown",
   "id": "b77b8fa5",
   "metadata": {
    "slideshow": {
     "slide_type": "skip"
    }
   },
   "source": [
    "# Data Wrangling"
   ]
  },
  {
   "cell_type": "markdown",
   "id": "4992c219",
   "metadata": {
    "slideshow": {
     "slide_type": "skip"
    }
   },
   "source": [
    "\n",
    "## Step  1:  Gather"
   ]
  },
  {
   "cell_type": "markdown",
   "id": "7f36a166",
   "metadata": {
    "slideshow": {
     "slide_type": "skip"
    }
   },
   "source": [
    "import all libary"
   ]
  },
  {
   "cell_type": "code",
   "execution_count": 108,
   "id": "d29a8d72",
   "metadata": {
    "slideshow": {
     "slide_type": "skip"
    }
   },
   "outputs": [],
   "source": [
    "import pandas as pd \n",
    "import numpy as np\n",
    "import matplotlib.pyplot as plt\n",
    "from matplotlib import figure\n",
    "from matplotlib.pyplot import figure\n",
    "from matplotlib.ticker import FuncFormatter\n",
    "import seaborn as sns\n",
    "import seaborn as sb\n",
    "from matplotlib.pyplot import figure\n",
    "%matplotlib inline"
   ]
  },
  {
   "cell_type": "markdown",
   "id": "847947eb",
   "metadata": {
    "slideshow": {
     "slide_type": "skip"
    }
   },
   "source": [
    "load datset"
   ]
  },
  {
   "cell_type": "code",
   "execution_count": 67,
   "id": "b241819f",
   "metadata": {
    "slideshow": {
     "slide_type": "skip"
    }
   },
   "outputs": [
    {
     "name": "stdout",
     "output_type": "stream",
     "text": [
      "(183412, 16)\n"
     ]
    },
    {
     "data": {
      "text/html": [
       "<div>\n",
       "<style scoped>\n",
       "    .dataframe tbody tr th:only-of-type {\n",
       "        vertical-align: middle;\n",
       "    }\n",
       "\n",
       "    .dataframe tbody tr th {\n",
       "        vertical-align: top;\n",
       "    }\n",
       "\n",
       "    .dataframe thead th {\n",
       "        text-align: right;\n",
       "    }\n",
       "</style>\n",
       "<table border=\"1\" class=\"dataframe\">\n",
       "  <thead>\n",
       "    <tr style=\"text-align: right;\">\n",
       "      <th></th>\n",
       "      <th>duration_sec</th>\n",
       "      <th>start_time</th>\n",
       "      <th>end_time</th>\n",
       "      <th>start_station_id</th>\n",
       "      <th>start_station_name</th>\n",
       "      <th>start_station_latitude</th>\n",
       "      <th>start_station_longitude</th>\n",
       "      <th>end_station_id</th>\n",
       "      <th>end_station_name</th>\n",
       "      <th>end_station_latitude</th>\n",
       "      <th>end_station_longitude</th>\n",
       "      <th>bike_id</th>\n",
       "      <th>user_type</th>\n",
       "      <th>member_birth_year</th>\n",
       "      <th>member_gender</th>\n",
       "      <th>bike_share_for_all_trip</th>\n",
       "    </tr>\n",
       "  </thead>\n",
       "  <tbody>\n",
       "    <tr>\n",
       "      <th>0</th>\n",
       "      <td>52185</td>\n",
       "      <td>2019-02-28 17:32:10.1450</td>\n",
       "      <td>2019-03-01 08:01:55.9750</td>\n",
       "      <td>21.0</td>\n",
       "      <td>Montgomery St BART Station (Market St at 2nd St)</td>\n",
       "      <td>37.789625</td>\n",
       "      <td>-122.400811</td>\n",
       "      <td>13.0</td>\n",
       "      <td>Commercial St at Montgomery St</td>\n",
       "      <td>37.794231</td>\n",
       "      <td>-122.402923</td>\n",
       "      <td>4902</td>\n",
       "      <td>Customer</td>\n",
       "      <td>1984.0</td>\n",
       "      <td>Male</td>\n",
       "      <td>No</td>\n",
       "    </tr>\n",
       "    <tr>\n",
       "      <th>1</th>\n",
       "      <td>42521</td>\n",
       "      <td>2019-02-28 18:53:21.7890</td>\n",
       "      <td>2019-03-01 06:42:03.0560</td>\n",
       "      <td>23.0</td>\n",
       "      <td>The Embarcadero at Steuart St</td>\n",
       "      <td>37.791464</td>\n",
       "      <td>-122.391034</td>\n",
       "      <td>81.0</td>\n",
       "      <td>Berry St at 4th St</td>\n",
       "      <td>37.775880</td>\n",
       "      <td>-122.393170</td>\n",
       "      <td>2535</td>\n",
       "      <td>Customer</td>\n",
       "      <td>NaN</td>\n",
       "      <td>NaN</td>\n",
       "      <td>No</td>\n",
       "    </tr>\n",
       "    <tr>\n",
       "      <th>2</th>\n",
       "      <td>61854</td>\n",
       "      <td>2019-02-28 12:13:13.2180</td>\n",
       "      <td>2019-03-01 05:24:08.1460</td>\n",
       "      <td>86.0</td>\n",
       "      <td>Market St at Dolores St</td>\n",
       "      <td>37.769305</td>\n",
       "      <td>-122.426826</td>\n",
       "      <td>3.0</td>\n",
       "      <td>Powell St BART Station (Market St at 4th St)</td>\n",
       "      <td>37.786375</td>\n",
       "      <td>-122.404904</td>\n",
       "      <td>5905</td>\n",
       "      <td>Customer</td>\n",
       "      <td>1972.0</td>\n",
       "      <td>Male</td>\n",
       "      <td>No</td>\n",
       "    </tr>\n",
       "    <tr>\n",
       "      <th>3</th>\n",
       "      <td>36490</td>\n",
       "      <td>2019-02-28 17:54:26.0100</td>\n",
       "      <td>2019-03-01 04:02:36.8420</td>\n",
       "      <td>375.0</td>\n",
       "      <td>Grove St at Masonic Ave</td>\n",
       "      <td>37.774836</td>\n",
       "      <td>-122.446546</td>\n",
       "      <td>70.0</td>\n",
       "      <td>Central Ave at Fell St</td>\n",
       "      <td>37.773311</td>\n",
       "      <td>-122.444293</td>\n",
       "      <td>6638</td>\n",
       "      <td>Subscriber</td>\n",
       "      <td>1989.0</td>\n",
       "      <td>Other</td>\n",
       "      <td>No</td>\n",
       "    </tr>\n",
       "    <tr>\n",
       "      <th>4</th>\n",
       "      <td>1585</td>\n",
       "      <td>2019-02-28 23:54:18.5490</td>\n",
       "      <td>2019-03-01 00:20:44.0740</td>\n",
       "      <td>7.0</td>\n",
       "      <td>Frank H Ogawa Plaza</td>\n",
       "      <td>37.804562</td>\n",
       "      <td>-122.271738</td>\n",
       "      <td>222.0</td>\n",
       "      <td>10th Ave at E 15th St</td>\n",
       "      <td>37.792714</td>\n",
       "      <td>-122.248780</td>\n",
       "      <td>4898</td>\n",
       "      <td>Subscriber</td>\n",
       "      <td>1974.0</td>\n",
       "      <td>Male</td>\n",
       "      <td>Yes</td>\n",
       "    </tr>\n",
       "    <tr>\n",
       "      <th>5</th>\n",
       "      <td>1793</td>\n",
       "      <td>2019-02-28 23:49:58.6320</td>\n",
       "      <td>2019-03-01 00:19:51.7600</td>\n",
       "      <td>93.0</td>\n",
       "      <td>4th St at Mission Bay Blvd S</td>\n",
       "      <td>37.770407</td>\n",
       "      <td>-122.391198</td>\n",
       "      <td>323.0</td>\n",
       "      <td>Broadway at Kearny</td>\n",
       "      <td>37.798014</td>\n",
       "      <td>-122.405950</td>\n",
       "      <td>5200</td>\n",
       "      <td>Subscriber</td>\n",
       "      <td>1959.0</td>\n",
       "      <td>Male</td>\n",
       "      <td>No</td>\n",
       "    </tr>\n",
       "    <tr>\n",
       "      <th>6</th>\n",
       "      <td>1147</td>\n",
       "      <td>2019-02-28 23:55:35.1040</td>\n",
       "      <td>2019-03-01 00:14:42.5880</td>\n",
       "      <td>300.0</td>\n",
       "      <td>Palm St at Willow St</td>\n",
       "      <td>37.317298</td>\n",
       "      <td>-121.884995</td>\n",
       "      <td>312.0</td>\n",
       "      <td>San Jose Diridon Station</td>\n",
       "      <td>37.329732</td>\n",
       "      <td>-121.901782</td>\n",
       "      <td>3803</td>\n",
       "      <td>Subscriber</td>\n",
       "      <td>1983.0</td>\n",
       "      <td>Female</td>\n",
       "      <td>No</td>\n",
       "    </tr>\n",
       "    <tr>\n",
       "      <th>7</th>\n",
       "      <td>1615</td>\n",
       "      <td>2019-02-28 23:41:06.7660</td>\n",
       "      <td>2019-03-01 00:08:02.7560</td>\n",
       "      <td>10.0</td>\n",
       "      <td>Washington St at Kearny St</td>\n",
       "      <td>37.795393</td>\n",
       "      <td>-122.404770</td>\n",
       "      <td>127.0</td>\n",
       "      <td>Valencia St at 21st St</td>\n",
       "      <td>37.756708</td>\n",
       "      <td>-122.421025</td>\n",
       "      <td>6329</td>\n",
       "      <td>Subscriber</td>\n",
       "      <td>1989.0</td>\n",
       "      <td>Male</td>\n",
       "      <td>No</td>\n",
       "    </tr>\n",
       "    <tr>\n",
       "      <th>8</th>\n",
       "      <td>1570</td>\n",
       "      <td>2019-02-28 23:41:48.7900</td>\n",
       "      <td>2019-03-01 00:07:59.7150</td>\n",
       "      <td>10.0</td>\n",
       "      <td>Washington St at Kearny St</td>\n",
       "      <td>37.795393</td>\n",
       "      <td>-122.404770</td>\n",
       "      <td>127.0</td>\n",
       "      <td>Valencia St at 21st St</td>\n",
       "      <td>37.756708</td>\n",
       "      <td>-122.421025</td>\n",
       "      <td>6548</td>\n",
       "      <td>Subscriber</td>\n",
       "      <td>1988.0</td>\n",
       "      <td>Other</td>\n",
       "      <td>No</td>\n",
       "    </tr>\n",
       "    <tr>\n",
       "      <th>9</th>\n",
       "      <td>1049</td>\n",
       "      <td>2019-02-28 23:49:47.6990</td>\n",
       "      <td>2019-03-01 00:07:17.0250</td>\n",
       "      <td>19.0</td>\n",
       "      <td>Post St at Kearny St</td>\n",
       "      <td>37.788975</td>\n",
       "      <td>-122.403452</td>\n",
       "      <td>121.0</td>\n",
       "      <td>Mission Playground</td>\n",
       "      <td>37.759210</td>\n",
       "      <td>-122.421339</td>\n",
       "      <td>6488</td>\n",
       "      <td>Subscriber</td>\n",
       "      <td>1992.0</td>\n",
       "      <td>Male</td>\n",
       "      <td>No</td>\n",
       "    </tr>\n",
       "  </tbody>\n",
       "</table>\n",
       "</div>"
      ],
      "text/plain": [
       "   duration_sec                start_time                  end_time  \\\n",
       "0         52185  2019-02-28 17:32:10.1450  2019-03-01 08:01:55.9750   \n",
       "1         42521  2019-02-28 18:53:21.7890  2019-03-01 06:42:03.0560   \n",
       "2         61854  2019-02-28 12:13:13.2180  2019-03-01 05:24:08.1460   \n",
       "3         36490  2019-02-28 17:54:26.0100  2019-03-01 04:02:36.8420   \n",
       "4          1585  2019-02-28 23:54:18.5490  2019-03-01 00:20:44.0740   \n",
       "5          1793  2019-02-28 23:49:58.6320  2019-03-01 00:19:51.7600   \n",
       "6          1147  2019-02-28 23:55:35.1040  2019-03-01 00:14:42.5880   \n",
       "7          1615  2019-02-28 23:41:06.7660  2019-03-01 00:08:02.7560   \n",
       "8          1570  2019-02-28 23:41:48.7900  2019-03-01 00:07:59.7150   \n",
       "9          1049  2019-02-28 23:49:47.6990  2019-03-01 00:07:17.0250   \n",
       "\n",
       "   start_station_id                                start_station_name  \\\n",
       "0              21.0  Montgomery St BART Station (Market St at 2nd St)   \n",
       "1              23.0                     The Embarcadero at Steuart St   \n",
       "2              86.0                           Market St at Dolores St   \n",
       "3             375.0                           Grove St at Masonic Ave   \n",
       "4               7.0                               Frank H Ogawa Plaza   \n",
       "5              93.0                      4th St at Mission Bay Blvd S   \n",
       "6             300.0                              Palm St at Willow St   \n",
       "7              10.0                        Washington St at Kearny St   \n",
       "8              10.0                        Washington St at Kearny St   \n",
       "9              19.0                              Post St at Kearny St   \n",
       "\n",
       "   start_station_latitude  start_station_longitude  end_station_id  \\\n",
       "0               37.789625              -122.400811            13.0   \n",
       "1               37.791464              -122.391034            81.0   \n",
       "2               37.769305              -122.426826             3.0   \n",
       "3               37.774836              -122.446546            70.0   \n",
       "4               37.804562              -122.271738           222.0   \n",
       "5               37.770407              -122.391198           323.0   \n",
       "6               37.317298              -121.884995           312.0   \n",
       "7               37.795393              -122.404770           127.0   \n",
       "8               37.795393              -122.404770           127.0   \n",
       "9               37.788975              -122.403452           121.0   \n",
       "\n",
       "                               end_station_name  end_station_latitude  \\\n",
       "0                Commercial St at Montgomery St             37.794231   \n",
       "1                            Berry St at 4th St             37.775880   \n",
       "2  Powell St BART Station (Market St at 4th St)             37.786375   \n",
       "3                        Central Ave at Fell St             37.773311   \n",
       "4                         10th Ave at E 15th St             37.792714   \n",
       "5                            Broadway at Kearny             37.798014   \n",
       "6                      San Jose Diridon Station             37.329732   \n",
       "7                        Valencia St at 21st St             37.756708   \n",
       "8                        Valencia St at 21st St             37.756708   \n",
       "9                            Mission Playground             37.759210   \n",
       "\n",
       "   end_station_longitude  bike_id   user_type  member_birth_year  \\\n",
       "0            -122.402923     4902    Customer             1984.0   \n",
       "1            -122.393170     2535    Customer                NaN   \n",
       "2            -122.404904     5905    Customer             1972.0   \n",
       "3            -122.444293     6638  Subscriber             1989.0   \n",
       "4            -122.248780     4898  Subscriber             1974.0   \n",
       "5            -122.405950     5200  Subscriber             1959.0   \n",
       "6            -121.901782     3803  Subscriber             1983.0   \n",
       "7            -122.421025     6329  Subscriber             1989.0   \n",
       "8            -122.421025     6548  Subscriber             1988.0   \n",
       "9            -122.421339     6488  Subscriber             1992.0   \n",
       "\n",
       "  member_gender bike_share_for_all_trip  \n",
       "0          Male                      No  \n",
       "1           NaN                      No  \n",
       "2          Male                      No  \n",
       "3         Other                      No  \n",
       "4          Male                     Yes  \n",
       "5          Male                      No  \n",
       "6        Female                      No  \n",
       "7          Male                      No  \n",
       "8         Other                      No  \n",
       "9          Male                      No  "
      ]
     },
     "execution_count": 67,
     "metadata": {},
     "output_type": "execute_result"
    }
   ],
   "source": [
    "Data = pd.read_csv(r'C:\\Users\\Bassa\\Desktop\\DAND\\Communicate Data Findings By Bassam Mohammed\\201902-fordgobike-tripdata.csv')\n",
    "print(Data.shape)\n",
    "Data.head(10)"
   ]
  },
  {
   "cell_type": "markdown",
   "id": "8eb3f838",
   "metadata": {
    "slideshow": {
     "slide_type": "skip"
    }
   },
   "source": [
    "## Step  2:  Gather"
   ]
  },
  {
   "cell_type": "code",
   "execution_count": 68,
   "id": "8bf727ff",
   "metadata": {
    "slideshow": {
     "slide_type": "skip"
    }
   },
   "outputs": [
    {
     "name": "stdout",
     "output_type": "stream",
     "text": [
      "<class 'pandas.core.frame.DataFrame'>\n",
      "RangeIndex: 183412 entries, 0 to 183411\n",
      "Data columns (total 16 columns):\n",
      " #   Column                   Non-Null Count   Dtype  \n",
      "---  ------                   --------------   -----  \n",
      " 0   duration_sec             183412 non-null  int64  \n",
      " 1   start_time               183412 non-null  object \n",
      " 2   end_time                 183412 non-null  object \n",
      " 3   start_station_id         183215 non-null  float64\n",
      " 4   start_station_name       183215 non-null  object \n",
      " 5   start_station_latitude   183412 non-null  float64\n",
      " 6   start_station_longitude  183412 non-null  float64\n",
      " 7   end_station_id           183215 non-null  float64\n",
      " 8   end_station_name         183215 non-null  object \n",
      " 9   end_station_latitude     183412 non-null  float64\n",
      " 10  end_station_longitude    183412 non-null  float64\n",
      " 11  bike_id                  183412 non-null  int64  \n",
      " 12  user_type                183412 non-null  object \n",
      " 13  member_birth_year        175147 non-null  float64\n",
      " 14  member_gender            175147 non-null  object \n",
      " 15  bike_share_for_all_trip  183412 non-null  object \n",
      "dtypes: float64(7), int64(2), object(7)\n",
      "memory usage: 22.4+ MB\n"
     ]
    }
   ],
   "source": [
    "Data.info()"
   ]
  },
  {
   "cell_type": "code",
   "execution_count": 69,
   "id": "d66eee90",
   "metadata": {
    "slideshow": {
     "slide_type": "skip"
    }
   },
   "outputs": [
    {
     "data": {
      "text/plain": [
       "duration_sec                  0\n",
       "start_time                    0\n",
       "end_time                      0\n",
       "start_station_id            197\n",
       "start_station_name          197\n",
       "start_station_latitude        0\n",
       "start_station_longitude       0\n",
       "end_station_id              197\n",
       "end_station_name            197\n",
       "end_station_latitude          0\n",
       "end_station_longitude         0\n",
       "bike_id                       0\n",
       "user_type                     0\n",
       "member_birth_year          8265\n",
       "member_gender              8265\n",
       "bike_share_for_all_trip       0\n",
       "dtype: int64"
      ]
     },
     "execution_count": 69,
     "metadata": {},
     "output_type": "execute_result"
    }
   ],
   "source": [
    "Data.isnull().sum()"
   ]
  },
  {
   "cell_type": "code",
   "execution_count": 70,
   "id": "d9283fae",
   "metadata": {
    "slideshow": {
     "slide_type": "skip"
    }
   },
   "outputs": [
    {
     "data": {
      "text/plain": [
       "0"
      ]
     },
     "execution_count": 70,
     "metadata": {},
     "output_type": "execute_result"
    }
   ],
   "source": [
    "#check duplicated record\n",
    "Data.duplicated().sum()"
   ]
  },
  {
   "cell_type": "code",
   "execution_count": 71,
   "id": "b393645e",
   "metadata": {
    "slideshow": {
     "slide_type": "skip"
    }
   },
   "outputs": [
    {
     "data": {
      "text/html": [
       "<div>\n",
       "<style scoped>\n",
       "    .dataframe tbody tr th:only-of-type {\n",
       "        vertical-align: middle;\n",
       "    }\n",
       "\n",
       "    .dataframe tbody tr th {\n",
       "        vertical-align: top;\n",
       "    }\n",
       "\n",
       "    .dataframe thead th {\n",
       "        text-align: right;\n",
       "    }\n",
       "</style>\n",
       "<table border=\"1\" class=\"dataframe\">\n",
       "  <thead>\n",
       "    <tr style=\"text-align: right;\">\n",
       "      <th></th>\n",
       "      <th>duration_sec</th>\n",
       "      <th>start_time</th>\n",
       "      <th>end_time</th>\n",
       "      <th>start_station_id</th>\n",
       "      <th>start_station_name</th>\n",
       "      <th>start_station_latitude</th>\n",
       "      <th>start_station_longitude</th>\n",
       "      <th>end_station_id</th>\n",
       "      <th>end_station_name</th>\n",
       "      <th>end_station_latitude</th>\n",
       "      <th>end_station_longitude</th>\n",
       "      <th>bike_id</th>\n",
       "      <th>user_type</th>\n",
       "      <th>member_birth_year</th>\n",
       "      <th>member_gender</th>\n",
       "      <th>bike_share_for_all_trip</th>\n",
       "    </tr>\n",
       "  </thead>\n",
       "  <tbody>\n",
       "    <tr>\n",
       "      <th>34602</th>\n",
       "      <td>214</td>\n",
       "      <td>2019-02-23 22:44:30.5780</td>\n",
       "      <td>2019-02-23 22:48:04.9330</td>\n",
       "      <td>223.0</td>\n",
       "      <td>16th St Mission BART Station 2</td>\n",
       "      <td>37.764765</td>\n",
       "      <td>-122.420091</td>\n",
       "      <td>96.0</td>\n",
       "      <td>Dolores St at 15th St</td>\n",
       "      <td>37.766210</td>\n",
       "      <td>-122.426614</td>\n",
       "      <td>5953</td>\n",
       "      <td>Subscriber</td>\n",
       "      <td>1987.0</td>\n",
       "      <td>Male</td>\n",
       "      <td>No</td>\n",
       "    </tr>\n",
       "    <tr>\n",
       "      <th>53115</th>\n",
       "      <td>975</td>\n",
       "      <td>2019-02-21 16:13:37.6640</td>\n",
       "      <td>2019-02-21 16:29:53.2960</td>\n",
       "      <td>58.0</td>\n",
       "      <td>Market St at 10th St</td>\n",
       "      <td>37.776619</td>\n",
       "      <td>-122.417385</td>\n",
       "      <td>67.0</td>\n",
       "      <td>San Francisco Caltrain Station 2  (Townsend St...</td>\n",
       "      <td>37.776639</td>\n",
       "      <td>-122.395526</td>\n",
       "      <td>4800</td>\n",
       "      <td>Subscriber</td>\n",
       "      <td>1983.0</td>\n",
       "      <td>Male</td>\n",
       "      <td>No</td>\n",
       "    </tr>\n",
       "    <tr>\n",
       "      <th>3374</th>\n",
       "      <td>372</td>\n",
       "      <td>2019-02-28 17:19:48.4740</td>\n",
       "      <td>2019-02-28 17:26:01.0230</td>\n",
       "      <td>7.0</td>\n",
       "      <td>Frank H Ogawa Plaza</td>\n",
       "      <td>37.804562</td>\n",
       "      <td>-122.271738</td>\n",
       "      <td>219.0</td>\n",
       "      <td>Marston Campbell Park</td>\n",
       "      <td>37.809824</td>\n",
       "      <td>-122.280192</td>\n",
       "      <td>975</td>\n",
       "      <td>Subscriber</td>\n",
       "      <td>1978.0</td>\n",
       "      <td>Female</td>\n",
       "      <td>No</td>\n",
       "    </tr>\n",
       "    <tr>\n",
       "      <th>65756</th>\n",
       "      <td>735</td>\n",
       "      <td>2019-02-20 09:12:49.3680</td>\n",
       "      <td>2019-02-20 09:25:04.7320</td>\n",
       "      <td>194.0</td>\n",
       "      <td>Lakeshore Ave at Trestle Glen Rd</td>\n",
       "      <td>37.811081</td>\n",
       "      <td>-122.243268</td>\n",
       "      <td>201.0</td>\n",
       "      <td>10th St at Fallon St</td>\n",
       "      <td>37.797673</td>\n",
       "      <td>-122.262997</td>\n",
       "      <td>2166</td>\n",
       "      <td>Subscriber</td>\n",
       "      <td>1979.0</td>\n",
       "      <td>Female</td>\n",
       "      <td>No</td>\n",
       "    </tr>\n",
       "    <tr>\n",
       "      <th>160355</th>\n",
       "      <td>418</td>\n",
       "      <td>2019-02-05 17:09:25.2490</td>\n",
       "      <td>2019-02-05 17:16:24.2400</td>\n",
       "      <td>6.0</td>\n",
       "      <td>The Embarcadero at Sansome St</td>\n",
       "      <td>37.804770</td>\n",
       "      <td>-122.403234</td>\n",
       "      <td>16.0</td>\n",
       "      <td>Steuart St at Market St</td>\n",
       "      <td>37.794130</td>\n",
       "      <td>-122.394430</td>\n",
       "      <td>1367</td>\n",
       "      <td>Subscriber</td>\n",
       "      <td>1971.0</td>\n",
       "      <td>Female</td>\n",
       "      <td>No</td>\n",
       "    </tr>\n",
       "    <tr>\n",
       "      <th>101619</th>\n",
       "      <td>1473</td>\n",
       "      <td>2019-02-14 17:05:47.9820</td>\n",
       "      <td>2019-02-14 17:30:20.9920</td>\n",
       "      <td>3.0</td>\n",
       "      <td>Powell St BART Station (Market St at 4th St)</td>\n",
       "      <td>37.786375</td>\n",
       "      <td>-122.404904</td>\n",
       "      <td>145.0</td>\n",
       "      <td>29th St at Church St</td>\n",
       "      <td>37.743684</td>\n",
       "      <td>-122.426806</td>\n",
       "      <td>5163</td>\n",
       "      <td>Subscriber</td>\n",
       "      <td>1968.0</td>\n",
       "      <td>Female</td>\n",
       "      <td>No</td>\n",
       "    </tr>\n",
       "    <tr>\n",
       "      <th>100755</th>\n",
       "      <td>3300</td>\n",
       "      <td>2019-02-14 17:18:25.7820</td>\n",
       "      <td>2019-02-14 18:13:26.5920</td>\n",
       "      <td>129.0</td>\n",
       "      <td>Harrison St at 20th St</td>\n",
       "      <td>37.758862</td>\n",
       "      <td>-122.412544</td>\n",
       "      <td>129.0</td>\n",
       "      <td>Harrison St at 20th St</td>\n",
       "      <td>37.758862</td>\n",
       "      <td>-122.412544</td>\n",
       "      <td>2351</td>\n",
       "      <td>Customer</td>\n",
       "      <td>NaN</td>\n",
       "      <td>NaN</td>\n",
       "      <td>No</td>\n",
       "    </tr>\n",
       "  </tbody>\n",
       "</table>\n",
       "</div>"
      ],
      "text/plain": [
       "        duration_sec                start_time                  end_time  \\\n",
       "34602            214  2019-02-23 22:44:30.5780  2019-02-23 22:48:04.9330   \n",
       "53115            975  2019-02-21 16:13:37.6640  2019-02-21 16:29:53.2960   \n",
       "3374             372  2019-02-28 17:19:48.4740  2019-02-28 17:26:01.0230   \n",
       "65756            735  2019-02-20 09:12:49.3680  2019-02-20 09:25:04.7320   \n",
       "160355           418  2019-02-05 17:09:25.2490  2019-02-05 17:16:24.2400   \n",
       "101619          1473  2019-02-14 17:05:47.9820  2019-02-14 17:30:20.9920   \n",
       "100755          3300  2019-02-14 17:18:25.7820  2019-02-14 18:13:26.5920   \n",
       "\n",
       "        start_station_id                            start_station_name  \\\n",
       "34602              223.0                16th St Mission BART Station 2   \n",
       "53115               58.0                          Market St at 10th St   \n",
       "3374                 7.0                           Frank H Ogawa Plaza   \n",
       "65756              194.0              Lakeshore Ave at Trestle Glen Rd   \n",
       "160355               6.0                 The Embarcadero at Sansome St   \n",
       "101619               3.0  Powell St BART Station (Market St at 4th St)   \n",
       "100755             129.0                        Harrison St at 20th St   \n",
       "\n",
       "        start_station_latitude  start_station_longitude  end_station_id  \\\n",
       "34602                37.764765              -122.420091            96.0   \n",
       "53115                37.776619              -122.417385            67.0   \n",
       "3374                 37.804562              -122.271738           219.0   \n",
       "65756                37.811081              -122.243268           201.0   \n",
       "160355               37.804770              -122.403234            16.0   \n",
       "101619               37.786375              -122.404904           145.0   \n",
       "100755               37.758862              -122.412544           129.0   \n",
       "\n",
       "                                         end_station_name  \\\n",
       "34602                               Dolores St at 15th St   \n",
       "53115   San Francisco Caltrain Station 2  (Townsend St...   \n",
       "3374                                Marston Campbell Park   \n",
       "65756                                10th St at Fallon St   \n",
       "160355                            Steuart St at Market St   \n",
       "101619                               29th St at Church St   \n",
       "100755                             Harrison St at 20th St   \n",
       "\n",
       "        end_station_latitude  end_station_longitude  bike_id   user_type  \\\n",
       "34602              37.766210            -122.426614     5953  Subscriber   \n",
       "53115              37.776639            -122.395526     4800  Subscriber   \n",
       "3374               37.809824            -122.280192      975  Subscriber   \n",
       "65756              37.797673            -122.262997     2166  Subscriber   \n",
       "160355             37.794130            -122.394430     1367  Subscriber   \n",
       "101619             37.743684            -122.426806     5163  Subscriber   \n",
       "100755             37.758862            -122.412544     2351    Customer   \n",
       "\n",
       "        member_birth_year member_gender bike_share_for_all_trip  \n",
       "34602              1987.0          Male                      No  \n",
       "53115              1983.0          Male                      No  \n",
       "3374               1978.0        Female                      No  \n",
       "65756              1979.0        Female                      No  \n",
       "160355             1971.0        Female                      No  \n",
       "101619             1968.0        Female                      No  \n",
       "100755                NaN           NaN                      No  "
      ]
     },
     "execution_count": 71,
     "metadata": {},
     "output_type": "execute_result"
    }
   ],
   "source": [
    "Data.sample(7)"
   ]
  },
  {
   "cell_type": "markdown",
   "id": "cb7d3f0a",
   "metadata": {
    "slideshow": {
     "slide_type": "skip"
    }
   },
   "source": [
    "# Observation."
   ]
  },
  {
   "cell_type": "markdown",
   "id": "f3437815",
   "metadata": {
    "slideshow": {
     "slide_type": "skip"
    }
   },
   "source": [
    "## Quality Issues : "
   ]
  },
  {
   "cell_type": "markdown",
   "id": "34e86ec8",
   "metadata": {
    "slideshow": {
     "slide_type": "skip"
    }
   },
   "source": [
    "- convert start_time ,end_time dtype to datetime\n",
    "- convert user_type, member_gender, and bike_share_for_all_trip to category dtype\n",
    "- Null values recorded as NaN"
   ]
  },
  {
   "cell_type": "markdown",
   "id": "d1082174",
   "metadata": {
    "slideshow": {
     "slide_type": "skip"
    }
   },
   "source": [
    "## Tidiness Issues :"
   ]
  },
  {
   "cell_type": "markdown",
   "id": "b71f553a",
   "metadata": {
    "slideshow": {
     "slide_type": "skip"
    }
   },
   "source": [
    "- Add start_of_weekday columns take day name from start time\n",
    "- Add start_hour columns take hour from strat time\n",
    "- Add end_hour columns take hour from end _time\n",
    "- Add duration_minites take min from duration_sec then divied 60\n",
    "- Add age_member take age from member_birth_year columns"
   ]
  },
  {
   "cell_type": "markdown",
   "id": "7d66039d",
   "metadata": {
    "slideshow": {
     "slide_type": "skip"
    }
   },
   "source": [
    "# Cleaning"
   ]
  },
  {
   "cell_type": "markdown",
   "id": "0f54a071",
   "metadata": {
    "slideshow": {
     "slide_type": "skip"
    }
   },
   "source": [
    "## Define:"
   ]
  },
  {
   "cell_type": "markdown",
   "id": "03613ebf",
   "metadata": {
    "slideshow": {
     "slide_type": "skip"
    }
   },
   "source": [
    "## Code"
   ]
  },
  {
   "cell_type": "code",
   "execution_count": 72,
   "id": "9465666e",
   "metadata": {
    "slideshow": {
     "slide_type": "skip"
    }
   },
   "outputs": [],
   "source": [
    "Data.start_time = pd.to_datetime(Data.start_time)\n",
    "Data.end_time = pd.to_datetime(Data.end_time)\n"
   ]
  },
  {
   "cell_type": "markdown",
   "id": "10df300c",
   "metadata": {
    "slideshow": {
     "slide_type": "skip"
    }
   },
   "source": [
    "## Test:"
   ]
  },
  {
   "cell_type": "code",
   "execution_count": 73,
   "id": "de69638e",
   "metadata": {
    "slideshow": {
     "slide_type": "skip"
    }
   },
   "outputs": [
    {
     "name": "stdout",
     "output_type": "stream",
     "text": [
      "datetime64[ns]\n",
      "datetime64[ns]\n"
     ]
    }
   ],
   "source": [
    "print(Data.start_time.dtype)\n",
    "print(Data.end_time.dtype)"
   ]
  },
  {
   "cell_type": "markdown",
   "id": "1fd3f7a2",
   "metadata": {
    "slideshow": {
     "slide_type": "skip"
    }
   },
   "source": [
    "## Define:\n",
    "Null values recorded as NaN"
   ]
  },
  {
   "cell_type": "markdown",
   "id": "2d86bb6a",
   "metadata": {
    "slideshow": {
     "slide_type": "skip"
    }
   },
   "source": [
    "## Code"
   ]
  },
  {
   "cell_type": "code",
   "execution_count": 74,
   "id": "13928abf",
   "metadata": {
    "slideshow": {
     "slide_type": "skip"
    }
   },
   "outputs": [],
   "source": [
    "Data = Data.dropna()"
   ]
  },
  {
   "cell_type": "markdown",
   "id": "b8b9ec5e",
   "metadata": {
    "slideshow": {
     "slide_type": "skip"
    }
   },
   "source": [
    "## Test:"
   ]
  },
  {
   "cell_type": "code",
   "execution_count": 75,
   "id": "73ae9043",
   "metadata": {
    "slideshow": {
     "slide_type": "skip"
    }
   },
   "outputs": [
    {
     "data": {
      "text/plain": [
       "duration_sec               0\n",
       "start_time                 0\n",
       "end_time                   0\n",
       "start_station_id           0\n",
       "start_station_name         0\n",
       "start_station_latitude     0\n",
       "start_station_longitude    0\n",
       "end_station_id             0\n",
       "end_station_name           0\n",
       "end_station_latitude       0\n",
       "end_station_longitude      0\n",
       "bike_id                    0\n",
       "user_type                  0\n",
       "member_birth_year          0\n",
       "member_gender              0\n",
       "bike_share_for_all_trip    0\n",
       "dtype: int64"
      ]
     },
     "execution_count": 75,
     "metadata": {},
     "output_type": "execute_result"
    }
   ],
   "source": [
    "Data.isnull().sum()"
   ]
  },
  {
   "cell_type": "markdown",
   "id": "7a09c09b",
   "metadata": {
    "slideshow": {
     "slide_type": "skip"
    }
   },
   "source": [
    "## Define:"
   ]
  },
  {
   "cell_type": "markdown",
   "id": "58d112e3",
   "metadata": {
    "slideshow": {
     "slide_type": "skip"
    }
   },
   "source": [
    "- Add start_of_weekday columns take day name from start time\n",
    "- Add start_hour columns take hour from strat time\n",
    "- Add end_hour columns take hour from end _time\n",
    "- Add duration_minites take min from duration_sec then divied 60\n",
    "- Add age_member take age from member_birth_year columns "
   ]
  },
  {
   "cell_type": "markdown",
   "id": "3ececdb3",
   "metadata": {
    "slideshow": {
     "slide_type": "skip"
    }
   },
   "source": [
    "## Code"
   ]
  },
  {
   "cell_type": "code",
   "execution_count": 76,
   "id": "62bd28f4",
   "metadata": {
    "slideshow": {
     "slide_type": "skip"
    }
   },
   "outputs": [],
   "source": [
    "Data['start_of_weekday'] = Data['start_time'].dt.strftime('%a')\n"
   ]
  },
  {
   "cell_type": "code",
   "execution_count": 77,
   "id": "6b8e9d45",
   "metadata": {
    "slideshow": {
     "slide_type": "skip"
    }
   },
   "outputs": [],
   "source": [
    "Data['start_hour'] = Data['start_time'].dt.hour"
   ]
  },
  {
   "cell_type": "code",
   "execution_count": 78,
   "id": "225e8770",
   "metadata": {
    "slideshow": {
     "slide_type": "skip"
    }
   },
   "outputs": [],
   "source": [
    "Data['end_hour'] = Data['end_time'].dt.hour"
   ]
  },
  {
   "cell_type": "code",
   "execution_count": 79,
   "id": "f9c4f169",
   "metadata": {
    "slideshow": {
     "slide_type": "skip"
    }
   },
   "outputs": [],
   "source": [
    "Data['duration_minites'] = Data['duration_sec']/60"
   ]
  },
  {
   "cell_type": "code",
   "execution_count": 80,
   "id": "3b09c2e7",
   "metadata": {
    "slideshow": {
     "slide_type": "skip"
    }
   },
   "outputs": [],
   "source": [
    "Data['age_member'] = 2021 - Data['member_birth_year']"
   ]
  },
  {
   "cell_type": "markdown",
   "id": "17bc0ec3",
   "metadata": {
    "slideshow": {
     "slide_type": "skip"
    }
   },
   "source": [
    "## Test:"
   ]
  },
  {
   "cell_type": "code",
   "execution_count": 81,
   "id": "ed848a68",
   "metadata": {
    "slideshow": {
     "slide_type": "skip"
    }
   },
   "outputs": [
    {
     "name": "stdout",
     "output_type": "stream",
     "text": [
      "Index(['duration_sec', 'start_time', 'end_time', 'start_station_id',\n",
      "       'start_station_name', 'start_station_latitude',\n",
      "       'start_station_longitude', 'end_station_id', 'end_station_name',\n",
      "       'end_station_latitude', 'end_station_longitude', 'bike_id', 'user_type',\n",
      "       'member_birth_year', 'member_gender', 'bike_share_for_all_trip',\n",
      "       'start_of_weekday', 'start_hour', 'end_hour', 'duration_minites',\n",
      "       'age_member'],\n",
      "      dtype='object')\n"
     ]
    }
   ],
   "source": [
    "print(Data.columns)"
   ]
  },
  {
   "cell_type": "code",
   "execution_count": 82,
   "id": "70a00013",
   "metadata": {
    "slideshow": {
     "slide_type": "skip"
    }
   },
   "outputs": [
    {
     "data": {
      "text/html": [
       "<div>\n",
       "<style scoped>\n",
       "    .dataframe tbody tr th:only-of-type {\n",
       "        vertical-align: middle;\n",
       "    }\n",
       "\n",
       "    .dataframe tbody tr th {\n",
       "        vertical-align: top;\n",
       "    }\n",
       "\n",
       "    .dataframe thead th {\n",
       "        text-align: right;\n",
       "    }\n",
       "</style>\n",
       "<table border=\"1\" class=\"dataframe\">\n",
       "  <thead>\n",
       "    <tr style=\"text-align: right;\">\n",
       "      <th></th>\n",
       "      <th>duration_sec</th>\n",
       "      <th>start_time</th>\n",
       "      <th>end_time</th>\n",
       "      <th>start_station_id</th>\n",
       "      <th>start_station_name</th>\n",
       "      <th>start_station_latitude</th>\n",
       "      <th>start_station_longitude</th>\n",
       "      <th>end_station_id</th>\n",
       "      <th>end_station_name</th>\n",
       "      <th>end_station_latitude</th>\n",
       "      <th>...</th>\n",
       "      <th>bike_id</th>\n",
       "      <th>user_type</th>\n",
       "      <th>member_birth_year</th>\n",
       "      <th>member_gender</th>\n",
       "      <th>bike_share_for_all_trip</th>\n",
       "      <th>start_of_weekday</th>\n",
       "      <th>start_hour</th>\n",
       "      <th>end_hour</th>\n",
       "      <th>duration_minites</th>\n",
       "      <th>age_member</th>\n",
       "    </tr>\n",
       "  </thead>\n",
       "  <tbody>\n",
       "    <tr>\n",
       "      <th>170103</th>\n",
       "      <td>282</td>\n",
       "      <td>2019-02-04 08:35:38.336</td>\n",
       "      <td>2019-02-04 08:40:21.114</td>\n",
       "      <td>144.0</td>\n",
       "      <td>Precita Park</td>\n",
       "      <td>37.747300</td>\n",
       "      <td>-122.411403</td>\n",
       "      <td>129.0</td>\n",
       "      <td>Harrison St at 20th St</td>\n",
       "      <td>37.758862</td>\n",
       "      <td>...</td>\n",
       "      <td>4801</td>\n",
       "      <td>Subscriber</td>\n",
       "      <td>1987.0</td>\n",
       "      <td>Male</td>\n",
       "      <td>No</td>\n",
       "      <td>Mon</td>\n",
       "      <td>8</td>\n",
       "      <td>8</td>\n",
       "      <td>4.700000</td>\n",
       "      <td>34.0</td>\n",
       "    </tr>\n",
       "    <tr>\n",
       "      <th>39940</th>\n",
       "      <td>884</td>\n",
       "      <td>2019-02-22 23:29:59.932</td>\n",
       "      <td>2019-02-22 23:44:44.134</td>\n",
       "      <td>245.0</td>\n",
       "      <td>Downtown Berkeley BART</td>\n",
       "      <td>37.870139</td>\n",
       "      <td>-122.268422</td>\n",
       "      <td>205.0</td>\n",
       "      <td>Miles Ave at Cavour St</td>\n",
       "      <td>37.838800</td>\n",
       "      <td>...</td>\n",
       "      <td>4678</td>\n",
       "      <td>Subscriber</td>\n",
       "      <td>1981.0</td>\n",
       "      <td>Male</td>\n",
       "      <td>No</td>\n",
       "      <td>Fri</td>\n",
       "      <td>23</td>\n",
       "      <td>23</td>\n",
       "      <td>14.733333</td>\n",
       "      <td>40.0</td>\n",
       "    </tr>\n",
       "    <tr>\n",
       "      <th>134606</th>\n",
       "      <td>170</td>\n",
       "      <td>2019-02-08 17:13:57.099</td>\n",
       "      <td>2019-02-08 17:16:47.908</td>\n",
       "      <td>25.0</td>\n",
       "      <td>Howard St at 2nd St</td>\n",
       "      <td>37.787522</td>\n",
       "      <td>-122.397405</td>\n",
       "      <td>22.0</td>\n",
       "      <td>Howard St at Beale St</td>\n",
       "      <td>37.789756</td>\n",
       "      <td>...</td>\n",
       "      <td>1619</td>\n",
       "      <td>Subscriber</td>\n",
       "      <td>1994.0</td>\n",
       "      <td>Male</td>\n",
       "      <td>No</td>\n",
       "      <td>Fri</td>\n",
       "      <td>17</td>\n",
       "      <td>17</td>\n",
       "      <td>2.833333</td>\n",
       "      <td>27.0</td>\n",
       "    </tr>\n",
       "    <tr>\n",
       "      <th>42201</th>\n",
       "      <td>342</td>\n",
       "      <td>2019-02-22 17:48:25.349</td>\n",
       "      <td>2019-02-22 17:54:08.216</td>\n",
       "      <td>61.0</td>\n",
       "      <td>Howard St at 8th St</td>\n",
       "      <td>37.776513</td>\n",
       "      <td>-122.411306</td>\n",
       "      <td>36.0</td>\n",
       "      <td>Folsom St at 3rd St</td>\n",
       "      <td>37.783830</td>\n",
       "      <td>...</td>\n",
       "      <td>4773</td>\n",
       "      <td>Subscriber</td>\n",
       "      <td>1988.0</td>\n",
       "      <td>Male</td>\n",
       "      <td>No</td>\n",
       "      <td>Fri</td>\n",
       "      <td>17</td>\n",
       "      <td>17</td>\n",
       "      <td>5.700000</td>\n",
       "      <td>33.0</td>\n",
       "    </tr>\n",
       "    <tr>\n",
       "      <th>29750</th>\n",
       "      <td>384</td>\n",
       "      <td>2019-02-25 06:40:20.031</td>\n",
       "      <td>2019-02-25 06:46:44.762</td>\n",
       "      <td>67.0</td>\n",
       "      <td>San Francisco Caltrain Station 2  (Townsend St...</td>\n",
       "      <td>37.776639</td>\n",
       "      <td>-122.395526</td>\n",
       "      <td>114.0</td>\n",
       "      <td>Rhode Island St at 17th St</td>\n",
       "      <td>37.764478</td>\n",
       "      <td>...</td>\n",
       "      <td>5958</td>\n",
       "      <td>Customer</td>\n",
       "      <td>1960.0</td>\n",
       "      <td>Male</td>\n",
       "      <td>No</td>\n",
       "      <td>Mon</td>\n",
       "      <td>6</td>\n",
       "      <td>6</td>\n",
       "      <td>6.400000</td>\n",
       "      <td>61.0</td>\n",
       "    </tr>\n",
       "    <tr>\n",
       "      <th>...</th>\n",
       "      <td>...</td>\n",
       "      <td>...</td>\n",
       "      <td>...</td>\n",
       "      <td>...</td>\n",
       "      <td>...</td>\n",
       "      <td>...</td>\n",
       "      <td>...</td>\n",
       "      <td>...</td>\n",
       "      <td>...</td>\n",
       "      <td>...</td>\n",
       "      <td>...</td>\n",
       "      <td>...</td>\n",
       "      <td>...</td>\n",
       "      <td>...</td>\n",
       "      <td>...</td>\n",
       "      <td>...</td>\n",
       "      <td>...</td>\n",
       "      <td>...</td>\n",
       "      <td>...</td>\n",
       "      <td>...</td>\n",
       "      <td>...</td>\n",
       "    </tr>\n",
       "    <tr>\n",
       "      <th>117400</th>\n",
       "      <td>1699</td>\n",
       "      <td>2019-02-11 21:41:49.274</td>\n",
       "      <td>2019-02-11 22:10:08.675</td>\n",
       "      <td>36.0</td>\n",
       "      <td>Folsom St at 3rd St</td>\n",
       "      <td>37.783830</td>\n",
       "      <td>-122.398870</td>\n",
       "      <td>118.0</td>\n",
       "      <td>Eureka Valley Recreation Center</td>\n",
       "      <td>37.759177</td>\n",
       "      <td>...</td>\n",
       "      <td>799</td>\n",
       "      <td>Subscriber</td>\n",
       "      <td>1990.0</td>\n",
       "      <td>Female</td>\n",
       "      <td>No</td>\n",
       "      <td>Mon</td>\n",
       "      <td>21</td>\n",
       "      <td>22</td>\n",
       "      <td>28.316667</td>\n",
       "      <td>31.0</td>\n",
       "    </tr>\n",
       "    <tr>\n",
       "      <th>98517</th>\n",
       "      <td>569</td>\n",
       "      <td>2019-02-15 07:36:54.091</td>\n",
       "      <td>2019-02-15 07:46:23.486</td>\n",
       "      <td>119.0</td>\n",
       "      <td>18th St at Noe St</td>\n",
       "      <td>37.761047</td>\n",
       "      <td>-122.432642</td>\n",
       "      <td>100.0</td>\n",
       "      <td>Bryant St at 15th St</td>\n",
       "      <td>37.767100</td>\n",
       "      <td>...</td>\n",
       "      <td>2451</td>\n",
       "      <td>Subscriber</td>\n",
       "      <td>1992.0</td>\n",
       "      <td>Female</td>\n",
       "      <td>No</td>\n",
       "      <td>Fri</td>\n",
       "      <td>7</td>\n",
       "      <td>7</td>\n",
       "      <td>9.483333</td>\n",
       "      <td>29.0</td>\n",
       "    </tr>\n",
       "    <tr>\n",
       "      <th>26646</th>\n",
       "      <td>259</td>\n",
       "      <td>2019-02-25 11:45:57.993</td>\n",
       "      <td>2019-02-25 11:50:17.355</td>\n",
       "      <td>201.0</td>\n",
       "      <td>10th St at Fallon St</td>\n",
       "      <td>37.797673</td>\n",
       "      <td>-122.262997</td>\n",
       "      <td>200.0</td>\n",
       "      <td>2nd Ave at E 18th St</td>\n",
       "      <td>37.800214</td>\n",
       "      <td>...</td>\n",
       "      <td>5096</td>\n",
       "      <td>Subscriber</td>\n",
       "      <td>1993.0</td>\n",
       "      <td>Female</td>\n",
       "      <td>No</td>\n",
       "      <td>Mon</td>\n",
       "      <td>11</td>\n",
       "      <td>11</td>\n",
       "      <td>4.316667</td>\n",
       "      <td>28.0</td>\n",
       "    </tr>\n",
       "    <tr>\n",
       "      <th>163823</th>\n",
       "      <td>645</td>\n",
       "      <td>2019-02-05 08:54:23.506</td>\n",
       "      <td>2019-02-05 09:05:09.067</td>\n",
       "      <td>58.0</td>\n",
       "      <td>Market St at 10th St</td>\n",
       "      <td>37.776619</td>\n",
       "      <td>-122.417385</td>\n",
       "      <td>21.0</td>\n",
       "      <td>Montgomery St BART Station (Market St at 2nd St)</td>\n",
       "      <td>37.789625</td>\n",
       "      <td>...</td>\n",
       "      <td>1168</td>\n",
       "      <td>Subscriber</td>\n",
       "      <td>1996.0</td>\n",
       "      <td>Male</td>\n",
       "      <td>No</td>\n",
       "      <td>Tue</td>\n",
       "      <td>8</td>\n",
       "      <td>9</td>\n",
       "      <td>10.750000</td>\n",
       "      <td>25.0</td>\n",
       "    </tr>\n",
       "    <tr>\n",
       "      <th>118775</th>\n",
       "      <td>423</td>\n",
       "      <td>2019-02-11 18:32:09.975</td>\n",
       "      <td>2019-02-11 18:39:13.640</td>\n",
       "      <td>274.0</td>\n",
       "      <td>Oregon St at Adeline St</td>\n",
       "      <td>37.857567</td>\n",
       "      <td>-122.267558</td>\n",
       "      <td>249.0</td>\n",
       "      <td>Russell St at College Ave</td>\n",
       "      <td>37.858473</td>\n",
       "      <td>...</td>\n",
       "      <td>3534</td>\n",
       "      <td>Subscriber</td>\n",
       "      <td>1985.0</td>\n",
       "      <td>Male</td>\n",
       "      <td>No</td>\n",
       "      <td>Mon</td>\n",
       "      <td>18</td>\n",
       "      <td>18</td>\n",
       "      <td>7.050000</td>\n",
       "      <td>36.0</td>\n",
       "    </tr>\n",
       "  </tbody>\n",
       "</table>\n",
       "<p>100 rows × 21 columns</p>\n",
       "</div>"
      ],
      "text/plain": [
       "        duration_sec              start_time                end_time  \\\n",
       "170103           282 2019-02-04 08:35:38.336 2019-02-04 08:40:21.114   \n",
       "39940            884 2019-02-22 23:29:59.932 2019-02-22 23:44:44.134   \n",
       "134606           170 2019-02-08 17:13:57.099 2019-02-08 17:16:47.908   \n",
       "42201            342 2019-02-22 17:48:25.349 2019-02-22 17:54:08.216   \n",
       "29750            384 2019-02-25 06:40:20.031 2019-02-25 06:46:44.762   \n",
       "...              ...                     ...                     ...   \n",
       "117400          1699 2019-02-11 21:41:49.274 2019-02-11 22:10:08.675   \n",
       "98517            569 2019-02-15 07:36:54.091 2019-02-15 07:46:23.486   \n",
       "26646            259 2019-02-25 11:45:57.993 2019-02-25 11:50:17.355   \n",
       "163823           645 2019-02-05 08:54:23.506 2019-02-05 09:05:09.067   \n",
       "118775           423 2019-02-11 18:32:09.975 2019-02-11 18:39:13.640   \n",
       "\n",
       "        start_station_id                                 start_station_name  \\\n",
       "170103             144.0                                       Precita Park   \n",
       "39940              245.0                             Downtown Berkeley BART   \n",
       "134606              25.0                                Howard St at 2nd St   \n",
       "42201               61.0                                Howard St at 8th St   \n",
       "29750               67.0  San Francisco Caltrain Station 2  (Townsend St...   \n",
       "...                  ...                                                ...   \n",
       "117400              36.0                                Folsom St at 3rd St   \n",
       "98517              119.0                                  18th St at Noe St   \n",
       "26646              201.0                               10th St at Fallon St   \n",
       "163823              58.0                               Market St at 10th St   \n",
       "118775             274.0                            Oregon St at Adeline St   \n",
       "\n",
       "        start_station_latitude  start_station_longitude  end_station_id  \\\n",
       "170103               37.747300              -122.411403           129.0   \n",
       "39940                37.870139              -122.268422           205.0   \n",
       "134606               37.787522              -122.397405            22.0   \n",
       "42201                37.776513              -122.411306            36.0   \n",
       "29750                37.776639              -122.395526           114.0   \n",
       "...                        ...                      ...             ...   \n",
       "117400               37.783830              -122.398870           118.0   \n",
       "98517                37.761047              -122.432642           100.0   \n",
       "26646                37.797673              -122.262997           200.0   \n",
       "163823               37.776619              -122.417385            21.0   \n",
       "118775               37.857567              -122.267558           249.0   \n",
       "\n",
       "                                        end_station_name  \\\n",
       "170103                            Harrison St at 20th St   \n",
       "39940                             Miles Ave at Cavour St   \n",
       "134606                             Howard St at Beale St   \n",
       "42201                                Folsom St at 3rd St   \n",
       "29750                         Rhode Island St at 17th St   \n",
       "...                                                  ...   \n",
       "117400                   Eureka Valley Recreation Center   \n",
       "98517                               Bryant St at 15th St   \n",
       "26646                               2nd Ave at E 18th St   \n",
       "163823  Montgomery St BART Station (Market St at 2nd St)   \n",
       "118775                         Russell St at College Ave   \n",
       "\n",
       "        end_station_latitude  ...  bike_id   user_type member_birth_year  \\\n",
       "170103             37.758862  ...     4801  Subscriber            1987.0   \n",
       "39940              37.838800  ...     4678  Subscriber            1981.0   \n",
       "134606             37.789756  ...     1619  Subscriber            1994.0   \n",
       "42201              37.783830  ...     4773  Subscriber            1988.0   \n",
       "29750              37.764478  ...     5958    Customer            1960.0   \n",
       "...                      ...  ...      ...         ...               ...   \n",
       "117400             37.759177  ...      799  Subscriber            1990.0   \n",
       "98517              37.767100  ...     2451  Subscriber            1992.0   \n",
       "26646              37.800214  ...     5096  Subscriber            1993.0   \n",
       "163823             37.789625  ...     1168  Subscriber            1996.0   \n",
       "118775             37.858473  ...     3534  Subscriber            1985.0   \n",
       "\n",
       "        member_gender bike_share_for_all_trip start_of_weekday start_hour  \\\n",
       "170103           Male                      No              Mon          8   \n",
       "39940            Male                      No              Fri         23   \n",
       "134606           Male                      No              Fri         17   \n",
       "42201            Male                      No              Fri         17   \n",
       "29750            Male                      No              Mon          6   \n",
       "...               ...                     ...              ...        ...   \n",
       "117400         Female                      No              Mon         21   \n",
       "98517          Female                      No              Fri          7   \n",
       "26646          Female                      No              Mon         11   \n",
       "163823           Male                      No              Tue          8   \n",
       "118775           Male                      No              Mon         18   \n",
       "\n",
       "        end_hour  duration_minites  age_member  \n",
       "170103         8          4.700000        34.0  \n",
       "39940         23         14.733333        40.0  \n",
       "134606        17          2.833333        27.0  \n",
       "42201         17          5.700000        33.0  \n",
       "29750          6          6.400000        61.0  \n",
       "...          ...               ...         ...  \n",
       "117400        22         28.316667        31.0  \n",
       "98517          7          9.483333        29.0  \n",
       "26646         11          4.316667        28.0  \n",
       "163823         9         10.750000        25.0  \n",
       "118775        18          7.050000        36.0  \n",
       "\n",
       "[100 rows x 21 columns]"
      ]
     },
     "execution_count": 82,
     "metadata": {},
     "output_type": "execute_result"
    }
   ],
   "source": [
    "Data.sample(100)"
   ]
  },
  {
   "cell_type": "code",
   "execution_count": 83,
   "id": "b5e53834",
   "metadata": {
    "slideshow": {
     "slide_type": "skip"
    }
   },
   "outputs": [
    {
     "data": {
      "text/plain": [
       "Thu    33712\n",
       "Tue    30584\n",
       "Wed    28426\n",
       "Fri    27663\n",
       "Mon    25641\n",
       "Sun    14512\n",
       "Sat    14414\n",
       "Name: start_of_weekday, dtype: int64"
      ]
     },
     "execution_count": 83,
     "metadata": {},
     "output_type": "execute_result"
    }
   ],
   "source": [
    "Data['start_of_weekday'].value_counts()"
   ]
  },
  {
   "cell_type": "code",
   "execution_count": 84,
   "id": "73c02d73",
   "metadata": {
    "slideshow": {
     "slide_type": "skip"
    }
   },
   "outputs": [
    {
     "data": {
      "text/plain": [
       "17    20904\n",
       "8     20227\n",
       "18    16118\n",
       "9     15204\n",
       "16    13473\n",
       "7     10231\n",
       "19     9424\n",
       "15     8646\n",
       "12     8220\n",
       "13     8098\n",
       "10     7970\n",
       "14     7677\n",
       "11     7461\n",
       "20     6211\n",
       "21     4400\n",
       "6      3293\n",
       "22     2793\n",
       "23     1572\n",
       "0       893\n",
       "5       866\n",
       "1       525\n",
       "2       355\n",
       "4       227\n",
       "3       164\n",
       "Name: start_hour, dtype: int64"
      ]
     },
     "execution_count": 84,
     "metadata": {},
     "output_type": "execute_result"
    }
   ],
   "source": [
    "Data['start_hour'].value_counts()"
   ]
  },
  {
   "cell_type": "code",
   "execution_count": 85,
   "id": "93a30926",
   "metadata": {
    "slideshow": {
     "slide_type": "skip"
    }
   },
   "outputs": [
    {
     "data": {
      "text/plain": [
       "17    20322\n",
       "8     19012\n",
       "18    17468\n",
       "9     16973\n",
       "16    12526\n",
       "19    10227\n",
       "10     8538\n",
       "7      8448\n",
       "15     8292\n",
       "12     8139\n",
       "13     8086\n",
       "14     7696\n",
       "11     7212\n",
       "20     6622\n",
       "21     4701\n",
       "22     3099\n",
       "6      2802\n",
       "23     1747\n",
       "0       965\n",
       "5       738\n",
       "1       541\n",
       "2       405\n",
       "4       225\n",
       "3       168\n",
       "Name: end_hour, dtype: int64"
      ]
     },
     "execution_count": 85,
     "metadata": {},
     "output_type": "execute_result"
    }
   ],
   "source": [
    "Data['end_hour'].value_counts()"
   ]
  },
  {
   "cell_type": "code",
   "execution_count": 86,
   "id": "009180de",
   "metadata": {
    "slideshow": {
     "slide_type": "skip"
    }
   },
   "outputs": [
    {
     "data": {
      "text/plain": [
       "33.0     10214\n",
       "28.0      9323\n",
       "32.0      8967\n",
       "31.0      8640\n",
       "30.0      8484\n",
       "         ...  \n",
       "94.0         1\n",
       "111.0        1\n",
       "91.0         1\n",
       "143.0        1\n",
       "93.0         1\n",
       "Name: age_member, Length: 75, dtype: int64"
      ]
     },
     "execution_count": 86,
     "metadata": {},
     "output_type": "execute_result"
    }
   ],
   "source": [
    "Data['age_member'].value_counts()"
   ]
  },
  {
   "cell_type": "code",
   "execution_count": 87,
   "id": "1343180e",
   "metadata": {
    "slideshow": {
     "slide_type": "skip"
    }
   },
   "outputs": [
    {
     "data": {
      "text/plain": [
       "Male      130500\n",
       "Female     40805\n",
       "Other       3647\n",
       "Name: member_gender, dtype: int64"
      ]
     },
     "execution_count": 87,
     "metadata": {},
     "output_type": "execute_result"
    }
   ],
   "source": [
    "Data['member_gender'].value_counts()"
   ]
  },
  {
   "cell_type": "code",
   "execution_count": 88,
   "id": "189b9c0b",
   "metadata": {
    "slideshow": {
     "slide_type": "skip"
    }
   },
   "outputs": [],
   "source": [
    "#clenning Drop other \n",
    "drop_other = Data[Data['member_gender']=='Other'].index\n",
    "Data = Data.drop(index=drop_other)"
   ]
  },
  {
   "cell_type": "code",
   "execution_count": 89,
   "id": "75563151",
   "metadata": {
    "slideshow": {
     "slide_type": "skip"
    }
   },
   "outputs": [
    {
     "data": {
      "text/plain": [
       "Male      130500\n",
       "Female     40805\n",
       "Name: member_gender, dtype: int64"
      ]
     },
     "execution_count": 89,
     "metadata": {},
     "output_type": "execute_result"
    }
   ],
   "source": [
    "#cheek remove other\n",
    "Data['member_gender'].value_counts()"
   ]
  },
  {
   "cell_type": "code",
   "execution_count": 90,
   "id": "a0534904",
   "metadata": {
    "slideshow": {
     "slide_type": "skip"
    }
   },
   "outputs": [
    {
     "data": {
      "text/plain": [
       "Subscriber    155189\n",
       "Customer       16116\n",
       "Name: user_type, dtype: int64"
      ]
     },
     "execution_count": 90,
     "metadata": {},
     "output_type": "execute_result"
    }
   ],
   "source": [
    "Data['user_type'].value_counts()"
   ]
  },
  {
   "cell_type": "markdown",
   "id": "f395018e",
   "metadata": {
    "slideshow": {
     "slide_type": "skip"
    }
   },
   "source": [
    "# The Structure of your dataset"
   ]
  },
  {
   "cell_type": "code",
   "execution_count": 91,
   "id": "bd66784a",
   "metadata": {
    "slideshow": {
     "slide_type": "skip"
    }
   },
   "outputs": [
    {
     "name": "stdout",
     "output_type": "stream",
     "text": [
      "<class 'pandas.core.frame.DataFrame'>\n",
      "Int64Index: 171305 entries, 0 to 183411\n",
      "Data columns (total 21 columns):\n",
      " #   Column                   Non-Null Count   Dtype         \n",
      "---  ------                   --------------   -----         \n",
      " 0   duration_sec             171305 non-null  int64         \n",
      " 1   start_time               171305 non-null  datetime64[ns]\n",
      " 2   end_time                 171305 non-null  datetime64[ns]\n",
      " 3   start_station_id         171305 non-null  float64       \n",
      " 4   start_station_name       171305 non-null  object        \n",
      " 5   start_station_latitude   171305 non-null  float64       \n",
      " 6   start_station_longitude  171305 non-null  float64       \n",
      " 7   end_station_id           171305 non-null  float64       \n",
      " 8   end_station_name         171305 non-null  object        \n",
      " 9   end_station_latitude     171305 non-null  float64       \n",
      " 10  end_station_longitude    171305 non-null  float64       \n",
      " 11  bike_id                  171305 non-null  int64         \n",
      " 12  user_type                171305 non-null  object        \n",
      " 13  member_birth_year        171305 non-null  float64       \n",
      " 14  member_gender            171305 non-null  object        \n",
      " 15  bike_share_for_all_trip  171305 non-null  object        \n",
      " 16  start_of_weekday         171305 non-null  object        \n",
      " 17  start_hour               171305 non-null  int64         \n",
      " 18  end_hour                 171305 non-null  int64         \n",
      " 19  duration_minites         171305 non-null  float64       \n",
      " 20  age_member               171305 non-null  float64       \n",
      "dtypes: datetime64[ns](2), float64(9), int64(4), object(6)\n",
      "memory usage: 28.8+ MB\n"
     ]
    }
   ],
   "source": [
    "Data.info()"
   ]
  },
  {
   "cell_type": "markdown",
   "id": "190ba536",
   "metadata": {
    "slideshow": {
     "slide_type": "skip"
    }
   },
   "source": [
    "The Dataset have 21 columns ,15 columns from the source , 5 columns generated based on other columns\n",
    "\n",
    "- duration_sec \n",
    "- start_time\n",
    "- end_time\n",
    "- start_station_id\n",
    "- start_station_name\n",
    "- start_station_latitude\n",
    "- start_station_longitude\n",
    "- end_station_id\n",
    "- end_station_name\n",
    "- end_station_latitude\n",
    "- end_station_longitude\n",
    "- bike_id\n",
    "- user_type\n",
    "- member_birth_year\n",
    "- bike_share_for_all_trip\n",
    "generated columns\n",
    "- start_of_weekday\n",
    "- start_hour\n",
    "- end_hour\n",
    "- duration_min \n",
    "- age_member"
   ]
  },
  {
   "cell_type": "code",
   "execution_count": 92,
   "id": "399b6666",
   "metadata": {
    "slideshow": {
     "slide_type": "skip"
    }
   },
   "outputs": [
    {
     "data": {
      "text/html": [
       "<div>\n",
       "<style scoped>\n",
       "    .dataframe tbody tr th:only-of-type {\n",
       "        vertical-align: middle;\n",
       "    }\n",
       "\n",
       "    .dataframe tbody tr th {\n",
       "        vertical-align: top;\n",
       "    }\n",
       "\n",
       "    .dataframe thead th {\n",
       "        text-align: right;\n",
       "    }\n",
       "</style>\n",
       "<table border=\"1\" class=\"dataframe\">\n",
       "  <thead>\n",
       "    <tr style=\"text-align: right;\">\n",
       "      <th></th>\n",
       "      <th>duration_sec</th>\n",
       "      <th>start_station_id</th>\n",
       "      <th>start_station_latitude</th>\n",
       "      <th>start_station_longitude</th>\n",
       "      <th>end_station_id</th>\n",
       "      <th>end_station_latitude</th>\n",
       "      <th>end_station_longitude</th>\n",
       "      <th>bike_id</th>\n",
       "      <th>member_birth_year</th>\n",
       "      <th>start_hour</th>\n",
       "      <th>end_hour</th>\n",
       "      <th>duration_minites</th>\n",
       "      <th>age_member</th>\n",
       "    </tr>\n",
       "  </thead>\n",
       "  <tbody>\n",
       "    <tr>\n",
       "      <th>count</th>\n",
       "      <td>171305.000000</td>\n",
       "      <td>171305.00000</td>\n",
       "      <td>171305.000000</td>\n",
       "      <td>171305.000000</td>\n",
       "      <td>171305.000000</td>\n",
       "      <td>171305.000000</td>\n",
       "      <td>171305.000000</td>\n",
       "      <td>171305.000000</td>\n",
       "      <td>171305.000000</td>\n",
       "      <td>171305.000000</td>\n",
       "      <td>171305.000000</td>\n",
       "      <td>171305.000000</td>\n",
       "      <td>171305.000000</td>\n",
       "    </tr>\n",
       "    <tr>\n",
       "      <th>mean</th>\n",
       "      <td>697.757981</td>\n",
       "      <td>138.70695</td>\n",
       "      <td>37.770629</td>\n",
       "      <td>-122.351657</td>\n",
       "      <td>136.304889</td>\n",
       "      <td>37.770831</td>\n",
       "      <td>-122.351225</td>\n",
       "      <td>4481.294136</td>\n",
       "      <td>1984.839351</td>\n",
       "      <td>13.451545</td>\n",
       "      <td>13.605546</td>\n",
       "      <td>11.629300</td>\n",
       "      <td>36.160649</td>\n",
       "    </tr>\n",
       "    <tr>\n",
       "      <th>std</th>\n",
       "      <td>1577.253741</td>\n",
       "      <td>111.71479</td>\n",
       "      <td>0.101225</td>\n",
       "      <td>0.118522</td>\n",
       "      <td>111.421147</td>\n",
       "      <td>0.101130</td>\n",
       "      <td>0.118088</td>\n",
       "      <td>1659.524197</td>\n",
       "      <td>10.116083</td>\n",
       "      <td>4.733722</td>\n",
       "      <td>4.747156</td>\n",
       "      <td>26.287562</td>\n",
       "      <td>10.116083</td>\n",
       "    </tr>\n",
       "    <tr>\n",
       "      <th>min</th>\n",
       "      <td>61.000000</td>\n",
       "      <td>3.00000</td>\n",
       "      <td>37.317298</td>\n",
       "      <td>-122.453704</td>\n",
       "      <td>3.000000</td>\n",
       "      <td>37.317298</td>\n",
       "      <td>-122.453704</td>\n",
       "      <td>11.000000</td>\n",
       "      <td>1878.000000</td>\n",
       "      <td>0.000000</td>\n",
       "      <td>0.000000</td>\n",
       "      <td>1.016667</td>\n",
       "      <td>20.000000</td>\n",
       "    </tr>\n",
       "    <tr>\n",
       "      <th>25%</th>\n",
       "      <td>322.000000</td>\n",
       "      <td>47.00000</td>\n",
       "      <td>37.770083</td>\n",
       "      <td>-122.411901</td>\n",
       "      <td>44.000000</td>\n",
       "      <td>37.770407</td>\n",
       "      <td>-122.411647</td>\n",
       "      <td>3796.000000</td>\n",
       "      <td>1980.000000</td>\n",
       "      <td>9.000000</td>\n",
       "      <td>9.000000</td>\n",
       "      <td>5.366667</td>\n",
       "      <td>29.000000</td>\n",
       "    </tr>\n",
       "    <tr>\n",
       "      <th>50%</th>\n",
       "      <td>509.000000</td>\n",
       "      <td>104.00000</td>\n",
       "      <td>37.780760</td>\n",
       "      <td>-122.398279</td>\n",
       "      <td>100.000000</td>\n",
       "      <td>37.781010</td>\n",
       "      <td>-122.397437</td>\n",
       "      <td>4960.000000</td>\n",
       "      <td>1987.000000</td>\n",
       "      <td>14.000000</td>\n",
       "      <td>14.000000</td>\n",
       "      <td>8.483333</td>\n",
       "      <td>34.000000</td>\n",
       "    </tr>\n",
       "    <tr>\n",
       "      <th>75%</th>\n",
       "      <td>787.000000</td>\n",
       "      <td>239.00000</td>\n",
       "      <td>37.797280</td>\n",
       "      <td>-122.283127</td>\n",
       "      <td>237.000000</td>\n",
       "      <td>37.797320</td>\n",
       "      <td>-122.287610</td>\n",
       "      <td>5505.000000</td>\n",
       "      <td>1992.000000</td>\n",
       "      <td>17.000000</td>\n",
       "      <td>18.000000</td>\n",
       "      <td>13.116667</td>\n",
       "      <td>41.000000</td>\n",
       "    </tr>\n",
       "    <tr>\n",
       "      <th>max</th>\n",
       "      <td>84548.000000</td>\n",
       "      <td>398.00000</td>\n",
       "      <td>37.880222</td>\n",
       "      <td>-121.874119</td>\n",
       "      <td>398.000000</td>\n",
       "      <td>37.880222</td>\n",
       "      <td>-121.874119</td>\n",
       "      <td>6645.000000</td>\n",
       "      <td>2001.000000</td>\n",
       "      <td>23.000000</td>\n",
       "      <td>23.000000</td>\n",
       "      <td>1409.133333</td>\n",
       "      <td>143.000000</td>\n",
       "    </tr>\n",
       "  </tbody>\n",
       "</table>\n",
       "</div>"
      ],
      "text/plain": [
       "        duration_sec  start_station_id  start_station_latitude  \\\n",
       "count  171305.000000      171305.00000           171305.000000   \n",
       "mean      697.757981         138.70695               37.770629   \n",
       "std      1577.253741         111.71479                0.101225   \n",
       "min        61.000000           3.00000               37.317298   \n",
       "25%       322.000000          47.00000               37.770083   \n",
       "50%       509.000000         104.00000               37.780760   \n",
       "75%       787.000000         239.00000               37.797280   \n",
       "max     84548.000000         398.00000               37.880222   \n",
       "\n",
       "       start_station_longitude  end_station_id  end_station_latitude  \\\n",
       "count            171305.000000   171305.000000         171305.000000   \n",
       "mean               -122.351657      136.304889             37.770831   \n",
       "std                   0.118522      111.421147              0.101130   \n",
       "min                -122.453704        3.000000             37.317298   \n",
       "25%                -122.411901       44.000000             37.770407   \n",
       "50%                -122.398279      100.000000             37.781010   \n",
       "75%                -122.283127      237.000000             37.797320   \n",
       "max                -121.874119      398.000000             37.880222   \n",
       "\n",
       "       end_station_longitude        bike_id  member_birth_year     start_hour  \\\n",
       "count          171305.000000  171305.000000      171305.000000  171305.000000   \n",
       "mean             -122.351225    4481.294136        1984.839351      13.451545   \n",
       "std                 0.118088    1659.524197          10.116083       4.733722   \n",
       "min              -122.453704      11.000000        1878.000000       0.000000   \n",
       "25%              -122.411647    3796.000000        1980.000000       9.000000   \n",
       "50%              -122.397437    4960.000000        1987.000000      14.000000   \n",
       "75%              -122.287610    5505.000000        1992.000000      17.000000   \n",
       "max              -121.874119    6645.000000        2001.000000      23.000000   \n",
       "\n",
       "            end_hour  duration_minites     age_member  \n",
       "count  171305.000000     171305.000000  171305.000000  \n",
       "mean       13.605546         11.629300      36.160649  \n",
       "std         4.747156         26.287562      10.116083  \n",
       "min         0.000000          1.016667      20.000000  \n",
       "25%         9.000000          5.366667      29.000000  \n",
       "50%        14.000000          8.483333      34.000000  \n",
       "75%        18.000000         13.116667      41.000000  \n",
       "max        23.000000       1409.133333     143.000000  "
      ]
     },
     "execution_count": 92,
     "metadata": {},
     "output_type": "execute_result"
    }
   ],
   "source": [
    "# descriptive statistics for numeric variables\n",
    "Data.describe()"
   ]
  },
  {
   "cell_type": "markdown",
   "id": "4cd9b6b4",
   "metadata": {
    "slideshow": {
     "slide_type": "skip"
    }
   },
   "source": [
    "### The main feature(s) of interest in my datase"
   ]
  },
  {
   "cell_type": "markdown",
   "id": "197838c4",
   "metadata": {
    "slideshow": {
     "slide_type": "slide"
    }
   },
   "source": [
    "This dataset have many trips , which related to the start and end of the trip and if the trip is on weekdays or weekend\n",
    "bike user data is also available from age, gender, and type of users subscriber or customer"
   ]
  },
  {
   "cell_type": "markdown",
   "id": "a8618bb0",
   "metadata": {},
   "source": [
    " ### The features that support me to my investigation "
   ]
  },
  {
   "cell_type": "markdown",
   "id": "58ab3d24",
   "metadata": {
    "slideshow": {
     "slide_type": "slide"
    }
   },
   "source": [
    "- start_station_id\n",
    "- user_type\n",
    "- member_birth_year\n",
    "- bike_share_for_all_trip\n",
    "- age_member\n",
    "- duration_minites\n",
    "- start_of_weekday\n"
   ]
  },
  {
   "cell_type": "markdown",
   "id": "2ba1f126",
   "metadata": {
    "slideshow": {
     "slide_type": "slide"
    }
   },
   "source": [
    "# Step 5 : Data Visualization"
   ]
  },
  {
   "cell_type": "markdown",
   "id": "c2e77217",
   "metadata": {
    "slideshow": {
     "slide_type": "slide"
    }
   },
   "source": [
    "## I.Univariate Exploration"
   ]
  },
  {
   "cell_type": "markdown",
   "id": "9c0e982e",
   "metadata": {
    "slideshow": {
     "slide_type": "slide"
    }
   },
   "source": [
    "### Q1. How many users and subscribers ?"
   ]
  },
  {
   "cell_type": "code",
   "execution_count": 93,
   "id": "2d3614c6",
   "metadata": {
    "slideshow": {
     "slide_type": "slide"
    }
   },
   "outputs": [
    {
     "data": {
      "image/png": "[encoded data removed]",
      "text/plain": [
       "<Figure size 504x720 with 1 Axes>"
      ]
     },
     "metadata": {},
     "output_type": "display_data"
    }
   ],
   "source": [
    "labels=Data['user_type'].value_counts().index\n",
    "colors=['brown','green']\n",
    "explode=[0,0.2]\n",
    "values=Data['user_type'].value_counts().values\n",
    "plt.figure(figsize=(7,10))\n",
    "plt.pie(values,explode=explode,labels=labels,colors=colors,autopct='%1.2f%%')\n",
    "plt.title('Number of Users',fontsize=15)\n",
    "plt.show()"
   ]
  },
  {
   "cell_type": "markdown",
   "id": "e1cb9cba",
   "metadata": {
    "slideshow": {
     "slide_type": "slide"
    }
   },
   "source": [
    "Most of the bike users are subscribers 90% ,but customer 9.4%"
   ]
  },
  {
   "cell_type": "markdown",
   "id": "1a9d25cd",
   "metadata": {
    "slideshow": {
     "slide_type": "slide"
    }
   },
   "source": [
    "# Distribution of Trip "
   ]
  },
  {
   "cell_type": "code",
   "execution_count": 94,
   "id": "fcdcbcfa",
   "metadata": {
    "slideshow": {
     "slide_type": "slide"
    }
   },
   "outputs": [
    {
     "data": {
      "image/png": "[encoded data removed]",
      "text/plain": [
       "<Figure size 432x288 with 1 Axes>"
      ]
     },
     "metadata": {
      "needs_background": "light"
     },
     "output_type": "display_data"
    },
    {
     "data": {
      "text/plain": [
       "<Figure size 504x504 with 0 Axes>"
      ]
     },
     "metadata": {},
     "output_type": "display_data"
    }
   ],
   "source": [
    "plt.hist(data = Data, x = 'duration_minites',bins=1000)\n",
    "plt.title('Distribution of Trip Durations')\n",
    "plt.xlim(xmin=0, xmax = 100)\n",
    "plt.xlabel('Duration (min)')\n",
    "plt.ylabel('Number of Trips')\n",
    "plt.figure(figsize=[7,7])\n",
    "plt.show()"
   ]
  },
  {
   "cell_type": "markdown",
   "id": "610fa57a",
   "metadata": {
    "slideshow": {
     "slide_type": "slide"
    }
   },
   "source": [
    "that most customer use the bike for 1 to 20 and 30 minutes"
   ]
  },
  {
   "cell_type": "markdown",
   "id": "ab7cef22",
   "metadata": {
    "slideshow": {
     "slide_type": "slide"
    }
   },
   "source": [
    "# Daily bike Usage"
   ]
  },
  {
   "cell_type": "code",
   "execution_count": 95,
   "id": "68897d61",
   "metadata": {
    "slideshow": {
     "slide_type": "slide"
    }
   },
   "outputs": [
    {
     "data": {
      "text/plain": [
       "Thu    32984\n",
       "Tue    30022\n",
       "Wed    27825\n",
       "Fri    27083\n",
       "Mon    25106\n",
       "Sun    14183\n",
       "Sat    14102\n",
       "Name: start_of_weekday, dtype: int64"
      ]
     },
     "execution_count": 95,
     "metadata": {},
     "output_type": "execute_result"
    }
   ],
   "source": [
    "start_of_weekday_counts = Data['start_of_weekday'].value_counts()\n",
    "start_of_weekday_counts"
   ]
  },
  {
   "cell_type": "code",
   "execution_count": 96,
   "id": "04d9b67f",
   "metadata": {
    "slideshow": {
     "slide_type": "slide"
    }
   },
   "outputs": [
    {
     "data": {
      "text/plain": [
       "Text(0, 0.5, 'Number of Users')"
      ]
     },
     "execution_count": 96,
     "metadata": {},
     "output_type": "execute_result"
    },
    {
     "data": {
      "image/png": "[encoded data removed]",
      "text/plain": [
       "<Figure size 720x360 with 1 Axes>"
      ]
     },
     "metadata": {
      "needs_background": "light"
     },
     "output_type": "display_data"
    }
   ],
   "source": [
    "plt.figure(figsize=[10,5])\n",
    "plt.title('Distribution of Daily bike Usage')\n",
    "Data['start_of_weekday'].value_counts().plot(kind='bar',color='#ffbb21');\n",
    "plt.xlabel('Weekday')\n",
    "plt.ylabel('Number of Users')\n"
   ]
  },
  {
   "cell_type": "markdown",
   "id": "4be45e8d",
   "metadata": {
    "slideshow": {
     "slide_type": "slide"
    }
   },
   "source": [
    "# hour bike Usage"
   ]
  },
  {
   "cell_type": "code",
   "execution_count": 97,
   "id": "fd435e30",
   "metadata": {
    "slideshow": {
     "slide_type": "slide"
    }
   },
   "outputs": [
    {
     "data": {
      "text/plain": [
       "17    20497\n",
       "8     19881\n",
       "18    15785\n",
       "9     14907\n",
       "16    13196\n",
       "7     10055\n",
       "19     9210\n",
       "15     8468\n",
       "12     8020\n",
       "13     7906\n",
       "10     7759\n",
       "14     7494\n",
       "11     7298\n",
       "20     6085\n",
       "21     4291\n",
       "6      3258\n",
       "22     2720\n",
       "23     1530\n",
       "0       869\n",
       "5       860\n",
       "1       509\n",
       "2       340\n",
       "4       215\n",
       "3       152\n",
       "Name: start_hour, dtype: int64"
      ]
     },
     "execution_count": 97,
     "metadata": {},
     "output_type": "execute_result"
    }
   ],
   "source": [
    "Data['start_hour'].value_counts()"
   ]
  },
  {
   "cell_type": "code",
   "execution_count": 98,
   "id": "d48045c0",
   "metadata": {
    "slideshow": {
     "slide_type": "slide"
    }
   },
   "outputs": [
    {
     "data": {
      "text/plain": [
       "Text(0, 0.5, 'Number of Users')"
      ]
     },
     "execution_count": 98,
     "metadata": {},
     "output_type": "execute_result"
    },
    {
     "data": {
      "image/png": "[encoded data removed]",
      "text/plain": [
       "<Figure size 576x360 with 1 Axes>"
      ]
     },
     "metadata": {
      "needs_background": "light"
     },
     "output_type": "display_data"
    }
   ],
   "source": [
    "plt.figure(figsize=[ 8, 5]);\n",
    "plt.title('Distribution of hour bike Usage')\n",
    "sb.countplot(data=Data, x='start_hour', color='#17becf');\n",
    "plt.xlabel('Hours')\n",
    "plt.ylabel('Number of Users')"
   ]
  },
  {
   "cell_type": "markdown",
   "id": "e4a7524b",
   "metadata": {
    "slideshow": {
     "slide_type": "slide"
    }
   },
   "source": [
    "The most use of bike the morning between 8-9 am , and afternoon between 17-18 pm"
   ]
  },
  {
   "cell_type": "markdown",
   "id": "7e7189a2",
   "metadata": {
    "slideshow": {
     "slide_type": "slide"
    }
   },
   "source": [
    "# What is the Age Distribution?\n"
   ]
  },
  {
   "cell_type": "code",
   "execution_count": 99,
   "id": "a6251ab2",
   "metadata": {
    "slideshow": {
     "slide_type": "slide"
    }
   },
   "outputs": [
    {
     "data": {
      "image/png": "[encoded data removed]",
      "text/plain": [
       "<Figure size 432x288 with 1 Axes>"
      ]
     },
     "metadata": {
      "needs_background": "light"
     },
     "output_type": "display_data"
    },
    {
     "data": {
      "text/plain": [
       "<Figure size 576x360 with 0 Axes>"
      ]
     },
     "metadata": {},
     "output_type": "display_data"
    }
   ],
   "source": [
    "plt.hist(data = Data, x = 'age_member',bins=1000)\n",
    "plt.title('Distribution of Age')\n",
    "plt.xlabel('Age')\n",
    "plt.ylabel('Number of Trips')\n",
    "plt.figure(figsize=[8,5])\n",
    "plt.show()"
   ]
  },
  {
   "cell_type": "markdown",
   "id": "1841b821",
   "metadata": {
    "slideshow": {
     "slide_type": "slide"
    }
   },
   "source": [
    "the most number of trips 20-40"
   ]
  },
  {
   "cell_type": "markdown",
   "id": "d242c135",
   "metadata": {
    "slideshow": {
     "slide_type": "slide"
    }
   },
   "source": [
    "# What is the Gender Distribution?"
   ]
  },
  {
   "cell_type": "code",
   "execution_count": 100,
   "id": "56155e7b",
   "metadata": {
    "slideshow": {
     "slide_type": "slide"
    }
   },
   "outputs": [
    {
     "data": {
      "text/plain": [
       "Male      130500\n",
       "Female     40805\n",
       "Name: member_gender, dtype: int64"
      ]
     },
     "execution_count": 100,
     "metadata": {},
     "output_type": "execute_result"
    }
   ],
   "source": [
    "Data['member_gender'].value_counts()"
   ]
  },
  {
   "cell_type": "code",
   "execution_count": 101,
   "id": "02687680",
   "metadata": {
    "slideshow": {
     "slide_type": "slide"
    }
   },
   "outputs": [
    {
     "data": {
      "text/plain": [
       "Text(0, 0.5, 'Number of Users')"
      ]
     },
     "execution_count": 101,
     "metadata": {},
     "output_type": "execute_result"
    },
    {
     "data": {
      "image/png": "[encoded data removed]",
      "text/plain": [
       "<Figure size 432x288 with 1 Axes>"
      ]
     },
     "metadata": {
      "needs_background": "light"
     },
     "output_type": "display_data"
    }
   ],
   "source": [
    "order_t = Data['member_gender'].value_counts().index\n",
    "plt.title('Gender Usage')\n",
    "sb.countplot(data=Data, y='member_gender', color='#c79fef', order=order_t);\n",
    "plt.xlabel('Gender')\n",
    "plt.ylabel('Number of Users')"
   ]
  },
  {
   "cell_type": "markdown",
   "id": "1e41ddc8",
   "metadata": {
    "slideshow": {
     "slide_type": "slide"
    }
   },
   "source": [
    "Male is most use of bike, and then Famle"
   ]
  },
  {
   "cell_type": "markdown",
   "id": "8745fea1",
   "metadata": {
    "slideshow": {
     "slide_type": "slide"
    }
   },
   "source": [
    "#### Discuss the distribution(s) of your variable(s) of interest. Were there any unusual points? Did you need to perform any transformations"
   ]
  },
  {
   "cell_type": "markdown",
   "id": "6199eeb1",
   "metadata": {
    "slideshow": {
     "slide_type": "slide"
    }
   },
   "source": [
    "All points were clear because of the cleaning effort I made on the data\n",
    "I didn't have any problems with exploration or visualization\n",
    "I just needed to convert seconds to minutes\n"
   ]
  },
  {
   "cell_type": "markdown",
   "id": "c908e92d",
   "metadata": {
    "slideshow": {
     "slide_type": "slide"
    }
   },
   "source": [
    "#### Of the features you investigated, were there any unusual distributions?\n"
   ]
  },
  {
   "cell_type": "markdown",
   "id": "24d2199d",
   "metadata": {
    "slideshow": {
     "slide_type": "slide"
    }
   },
   "source": [
    "no unusal distributuons"
   ]
  },
  {
   "cell_type": "markdown",
   "id": "c91063bc",
   "metadata": {
    "slideshow": {
     "slide_type": "slide"
    }
   },
   "source": [
    "#### Did you perform any operations on the data to tidy, adjust, or change the form of the data? If so, why did you do this?"
   ]
  },
  {
   "cell_type": "markdown",
   "id": "b63c3b40",
   "metadata": {
    "slideshow": {
     "slide_type": "slide"
    }
   },
   "source": [
    "In order to facilitate the discovery and visualization of variables"
   ]
  },
  {
   "cell_type": "markdown",
   "id": "c6e0b1d5",
   "metadata": {
    "slideshow": {
     "slide_type": "slide"
    }
   },
   "source": [
    "# Bivariate Exploration"
   ]
  },
  {
   "cell_type": "markdown",
   "id": "781f3724",
   "metadata": {
    "slideshow": {
     "slide_type": "slide"
    }
   },
   "source": [
    "# Customer vs. Subscriber Usage by hour"
   ]
  },
  {
   "cell_type": "code",
   "execution_count": 102,
   "id": "9d2baa96",
   "metadata": {
    "slideshow": {
     "slide_type": "slide"
    }
   },
   "outputs": [
    {
     "data": {
      "image/png": "[encoded data removed]",
      "text/plain": [
       "<Figure size 720x504 with 1 Axes>"
      ]
     },
     "metadata": {
      "needs_background": "light"
     },
     "output_type": "display_data"
    }
   ],
   "source": [
    "plt.figure(figsize=[ 10, 7]);\n",
    "Data_age_hour = Data.groupby(['start_hour', 'member_gender']).size().reset_index()\n",
    "x = sb.pointplot(data=Data_age_hour,scale=.9, x='start_hour', y=0, hue = 'member_gender');\n",
    "plt.title('Trends by member gender', y=1.01, fontsize=12)\n",
    "plt.xlabel('Hour')\n",
    "plt.ylabel('Number of Users');\n",
    "plt.grid()"
   ]
  },
  {
   "cell_type": "markdown",
   "id": "ded21c93",
   "metadata": {
    "slideshow": {
     "slide_type": "slide"
    }
   },
   "source": [
    " observition : The point plot below show between Female and Male , female have low hours of use, male high hours of use"
   ]
  },
  {
   "cell_type": "markdown",
   "id": "5e1c3a69",
   "metadata": {
    "slideshow": {
     "slide_type": "slide"
    }
   },
   "source": [
    "# What is distribution between duration_min and start_of_weekday?"
   ]
  },
  {
   "cell_type": "code",
   "execution_count": 103,
   "id": "5fd2f835",
   "metadata": {
    "slideshow": {
     "slide_type": "slide"
    }
   },
   "outputs": [
    {
     "data": {
      "image/png": "[encoded data removed]",
      "text/plain": [
       "<Figure size 360x360 with 1 Axes>"
      ]
     },
     "metadata": {
      "needs_background": "light"
     },
     "output_type": "display_data"
    }
   ],
   "source": [
    "plt.figure(figsize=[5,5])\n",
    "plt.scatter(data = Data, x = 'start_of_weekday', y ='duration_minites')\n",
    "plt.title('Trip distribution by Age')\n",
    "plt.xlabel('week day ')\n",
    "plt.ylabel('Trip Duration')\n",
    "plt.show()\n"
   ]
  },
  {
   "cell_type": "markdown",
   "id": "e7d5fe64",
   "metadata": {
    "slideshow": {
     "slide_type": "slide"
    }
   },
   "source": [
    "# Number of trips per week"
   ]
  },
  {
   "cell_type": "code",
   "execution_count": 104,
   "id": "85864eb5",
   "metadata": {
    "slideshow": {
     "slide_type": "slide"
    }
   },
   "outputs": [
    {
     "data": {
      "text/plain": [
       "Text(0.5, 1.0, 'Number of trips per week')"
      ]
     },
     "execution_count": 104,
     "metadata": {},
     "output_type": "execute_result"
    },
    {
     "data": {
      "image/png": "[encoded data removed]",
      "text/plain": [
       "<Figure size 504x504 with 1 Axes>"
      ]
     },
     "metadata": {
      "needs_background": "light"
     },
     "output_type": "display_data"
    }
   ],
   "source": [
    "plt.figure(figsize = [7, 7]);\n",
    "sns.pointplot(scale=.8, color='blue',x='start_of_weekday', y='start_station_id', data=Data );\n",
    "plt.title('Number of trips per week')"
   ]
  },
  {
   "cell_type": "markdown",
   "id": "3c698984",
   "metadata": {
    "slideshow": {
     "slide_type": "slide"
    }
   },
   "source": [
    "observe:The number of trips increases on Saturday and Sundays "
   ]
  },
  {
   "cell_type": "markdown",
   "id": "2f4200ec",
   "metadata": {
    "slideshow": {
     "slide_type": "slide"
    }
   },
   "source": [
    "# Who is the longest time for the trip? Are they the subscribers or the customers?"
   ]
  },
  {
   "cell_type": "code",
   "execution_count": 105,
   "id": "e4da1dc6",
   "metadata": {
    "slideshow": {
     "slide_type": "slide"
    }
   },
   "outputs": [
    {
     "data": {
      "text/html": [
       "<div>\n",
       "<style scoped>\n",
       "    .dataframe tbody tr th:only-of-type {\n",
       "        vertical-align: middle;\n",
       "    }\n",
       "\n",
       "    .dataframe tbody tr th {\n",
       "        vertical-align: top;\n",
       "    }\n",
       "\n",
       "    .dataframe thead th {\n",
       "        text-align: right;\n",
       "    }\n",
       "</style>\n",
       "<table border=\"1\" class=\"dataframe\">\n",
       "  <thead>\n",
       "    <tr style=\"text-align: right;\">\n",
       "      <th></th>\n",
       "      <th>duration_minites</th>\n",
       "    </tr>\n",
       "    <tr>\n",
       "      <th>user_type</th>\n",
       "      <th></th>\n",
       "    </tr>\n",
       "  </thead>\n",
       "  <tbody>\n",
       "    <tr>\n",
       "      <th>Customer</th>\n",
       "      <td>3.498549e+05</td>\n",
       "    </tr>\n",
       "    <tr>\n",
       "      <th>Subscriber</th>\n",
       "      <td>1.642302e+06</td>\n",
       "    </tr>\n",
       "  </tbody>\n",
       "</table>\n",
       "</div>"
      ],
      "text/plain": [
       "            duration_minites\n",
       "user_type                   \n",
       "Customer        3.498549e+05\n",
       "Subscriber      1.642302e+06"
      ]
     },
     "execution_count": 105,
     "metadata": {},
     "output_type": "execute_result"
    }
   ],
   "source": [
    "user_trips=pd.DataFrame(Data.groupby('user_type')['duration_minites'].sum())\n",
    "user_trips"
   ]
  },
  {
   "cell_type": "code",
   "execution_count": 106,
   "id": "6cd04204",
   "metadata": {
    "slideshow": {
     "slide_type": "slide"
    }
   },
   "outputs": [
    {
     "data": {
      "image/png": "[encoded data removed]",
      "text/plain": [
       "<Figure size 864x360 with 1 Axes>"
      ]
     },
     "metadata": {
      "needs_background": "light"
     },
     "output_type": "display_data"
    }
   ],
   "source": [
    "\n",
    "plt =user_trips.plot(kind='barh', figsize=(12,5),color='skyblue');\n",
    "\n",
    "plt.set_title('Who is the longest time for the trip? Are they the subscribers or the customers?', fontsize=16)\n",
    "plt.set_xlabel('duration_minites')\n",
    "plt.set_ylabel('User Type');"
   ]
  },
  {
   "cell_type": "markdown",
   "id": "9e299b2d",
   "metadata": {
    "slideshow": {
     "slide_type": "slide"
    }
   },
   "source": [
    "observe:The longest period of time are the subscribers"
   ]
  },
  {
   "cell_type": "markdown",
   "id": "4b3a7313",
   "metadata": {
    "slideshow": {
     "slide_type": "skip"
    }
   },
   "source": [
    "# Restart import the libraries"
   ]
  },
  {
   "cell_type": "code",
   "execution_count": null,
   "id": "1b0c515d",
   "metadata": {
    "slideshow": {
     "slide_type": "skip"
    }
   },
   "outputs": [],
   "source": [
    "import matplotlib.pyplot as plt\n",
    "from matplotlib import figure\n",
    "from matplotlib.pyplot import figure\n",
    "from matplotlib.ticker import FuncFormatter\n",
    "import seaborn as sns\n",
    "import seaborn as sb\n",
    "%matplotlib inline"
   ]
  },
  {
   "cell_type": "markdown",
   "id": "d2d000eb",
   "metadata": {
    "slideshow": {
     "slide_type": "slide"
    }
   },
   "source": [
    "# Relation between member genders and user types"
   ]
  },
  {
   "cell_type": "code",
   "execution_count": null,
   "id": "3f057936",
   "metadata": {
    "slideshow": {
     "slide_type": "notes"
    }
   },
   "outputs": [],
   "source": [
    "#If the code does not work, please restart import the libraries and then restart this code immediately"
   ]
  },
  {
   "cell_type": "code",
   "execution_count": 109,
   "id": "f710461a",
   "metadata": {
    "slideshow": {
     "slide_type": "slide"
    }
   },
   "outputs": [
    {
     "data": {
      "text/plain": [
       "Text(0, 0.5, 'count')"
      ]
     },
     "execution_count": 109,
     "metadata": {},
     "output_type": "execute_result"
    },
    {
     "data": {
      "image/png": "[encoded data removed]",
      "text/plain": [
       "<Figure size 432x288 with 1 Axes>"
      ]
     },
     "metadata": {
      "needs_background": "light"
     },
     "output_type": "display_data"
    }
   ],
   "source": [
    "sb.countplot(data = Data, x = 'member_gender', hue = 'user_type',palette=\"Set3\");\n",
    "plt.title('Rlation between Member Gender and User Type');\n",
    "plt.xlabel('Member Gender')\n",
    "plt.ylabel('count')"
   ]
  },
  {
   "cell_type": "markdown",
   "id": "c2dd9256",
   "metadata": {
    "slideshow": {
     "slide_type": "slide"
    }
   },
   "source": [
    "observe:Increase in the number of subscribers and decrease customers for Male and Female"
   ]
  },
  {
   "cell_type": "markdown",
   "id": "522881a0",
   "metadata": {
    "slideshow": {
     "slide_type": "slide"
    }
   },
   "source": [
    "# Relation between age and duration"
   ]
  },
  {
   "cell_type": "code",
   "execution_count": null,
   "id": "eb2b04d3",
   "metadata": {
    "slideshow": {
     "slide_type": "notes"
    }
   },
   "outputs": [],
   "source": [
    "#If the code does not work, please restart import the libraries and then restart this code immediately"
   ]
  },
  {
   "cell_type": "code",
   "execution_count": 110,
   "id": "914674e6",
   "metadata": {
    "slideshow": {
     "slide_type": "slide"
    }
   },
   "outputs": [
    {
     "data": {
      "image/png": "[encoded data removed]",
      "text/plain": [
       "<Figure size 648x648 with 1 Axes>"
      ]
     },
     "metadata": {
      "needs_background": "light"
     },
     "output_type": "display_data"
    }
   ],
   "source": [
    "plt.figure(figsize =[9,9])\n",
    "plt.scatter(x = Data['age_member'], y = Data['duration_minites'],color='brown')\n",
    "plt.title('Rlation between age and duration minits');\n",
    "plt.xlabel('Member Age');\n",
    "plt.ylabel('count');"
   ]
  },
  {
   "cell_type": "markdown",
   "id": "7eee3d98",
   "metadata": {
    "slideshow": {
     "slide_type": "slide"
    }
   },
   "source": [
    "# Multivariate exploration\n"
   ]
  },
  {
   "cell_type": "markdown",
   "id": "e6a0ac1d",
   "metadata": {
    "slideshow": {
     "slide_type": "slide"
    }
   },
   "source": [
    "# Weekly Usage for Member Gender and User Type"
   ]
  },
  {
   "cell_type": "code",
   "execution_count": 112,
   "id": "952988ef",
   "metadata": {
    "slideshow": {
     "slide_type": "slide"
    }
   },
   "outputs": [
    {
     "data": {
      "image/png": "[encoded data removed]",
      "text/plain": [
       "<Figure size 1242.38x288 with 2 Axes>"
      ]
     },
     "metadata": {
      "needs_background": "light"
     },
     "output_type": "display_data"
    }
   ],
   "source": [
    "x= sb.catplot(data=Data, x='start_of_weekday', col=\"user_type\",sharey = False ,hue=\"member_gender\", kind='count', height=4, aspect=2);\n",
    "x.fig.suptitle('Weekly Usage for Member Gender and User Type');\n",
    "x.set_xticklabels(rotation=55);\n",
    "x.set_axis_labels(\"Week\", \"Number of Trip\")\n",
    "x._legend.set_title('Gender Member')"
   ]
  },
  {
   "cell_type": "markdown",
   "id": "a6da4f8e",
   "metadata": {
    "slideshow": {
     "slide_type": "slide"
    }
   },
   "source": [
    "observe:The weekly use of all coustomer and subscribers is almost the same, but the use of Male is more than Female"
   ]
  },
  {
   "cell_type": "markdown",
   "id": "ae72e74d",
   "metadata": {
    "slideshow": {
     "slide_type": "slide"
    }
   },
   "source": [
    "# Hour Per User Type and Gender Member"
   ]
  },
  {
   "cell_type": "code",
   "execution_count": 113,
   "id": "f95fa90e",
   "metadata": {
    "slideshow": {
     "slide_type": "slide"
    }
   },
   "outputs": [
    {
     "data": {
      "image/png": "[encoded data removed]",
      "text/plain": [
       "<Figure size 954.375x432 with 1 Axes>"
      ]
     },
     "metadata": {
      "needs_background": "light"
     },
     "output_type": "display_data"
    }
   ],
   "source": [
    "z = sb.catplot(data=Data,height=6, aspect=2, x='user_type', y=\"start_hour\", hue=\"member_gender\", kind=\"violin\");\n",
    "z.set_axis_labels(\"User Type\", \"hour\")\n",
    "z._legend.set_title('Gender')\n",
    "z.fig.suptitle('hour for coustomer and subscribers', y=1.2, fontsize=13);"
   ]
  },
  {
   "cell_type": "markdown",
   "id": "8b5e2f92",
   "metadata": {
    "slideshow": {
     "slide_type": "slide"
    }
   },
   "source": [
    "observe:\n",
    "The total time of trips from customers is greater than the total time of subscribers\n",
    "\n",
    "Female subscribers average more trips than average male subscribers"
   ]
  },
  {
   "cell_type": "markdown",
   "id": "0ae48006",
   "metadata": {
    "slideshow": {
     "slide_type": "slide"
    }
   },
   "source": [
    "# Relationship Between number of trips and Age Member"
   ]
  },
  {
   "cell_type": "code",
   "execution_count": null,
   "id": "77abe4e1",
   "metadata": {
    "slideshow": {
     "slide_type": "notes"
    }
   },
   "outputs": [],
   "source": [
    "#If the code does not work, please restart import the libraries and then restart this code immediately"
   ]
  },
  {
   "cell_type": "code",
   "execution_count": 120,
   "id": "88d338bc",
   "metadata": {
    "slideshow": {
     "slide_type": "slide"
    }
   },
   "outputs": [
    {
     "data": {
      "text/plain": [
       "Text(0, 0.5, 'Number of Trips')"
      ]
     },
     "execution_count": 120,
     "metadata": {},
     "output_type": "execute_result"
    },
    {
     "data": {
      "image/png": "[encoded data removed]",
      "text/plain": [
       "<Figure size 504x504 with 1 Axes>"
      ]
     },
     "metadata": {
      "needs_background": "light"
     },
     "output_type": "display_data"
    }
   ],
   "source": [
    "f, g = plt.subplots(figsize=(7,7))\n",
    "g= sns.scatterplot(data=Data, y=Data['start_station_id'], x=Data['age_member'], hue='member_gender')\n",
    "plt.title('Relationship Between Age & number of trips', fontsize=20)\n",
    "plt.xlabel('Age Member', fontsize=10); \n",
    "plt.ylabel('Number of Trips', fontsize=10)"
   ]
  },
  {
   "cell_type": "markdown",
   "id": "ac6157dc",
   "metadata": {
    "slideshow": {
     "slide_type": "slide"
    }
   },
   "source": [
    "observe:The number of trips is increasing in the age group between 20 - 60"
   ]
  },
  {
   "cell_type": "markdown",
   "id": "9c746300",
   "metadata": {
    "slideshow": {
     "slide_type": "slide"
    }
   },
   "source": [
    "# Findings exploratory visualizations:\n"
   ]
  },
  {
   "cell_type": "markdown",
   "id": "b6914983",
   "metadata": {
    "slideshow": {
     "slide_type": "slide"
    }
   },
   "source": [
    "- Most of the bike users are subscribers 90% ,but customer 9.4%\n",
    "- that most customer use the bike for 1 to 20 and 30 minutes\n",
    "- The most use of bike the morning between 8-9 am , and afternoon between 17-18 pm\n",
    "- Male is most use of bike, and then Famle\n",
    "- The point plot below show between Female and Male , female have low hours of use, male high hours of use\n",
    "- The number of trips increases on Saturday and Sundays \n",
    "- The longest period of time are the subscribers\n",
    "- Increase in the number of subscribers and decrease customers for men and women\n",
    "- The weekly use of all coustomer and subscribers is almost the same, but the use of Male is more than Female\n",
    "- The total time of trips from customers is greater than the total time of subscribers and Female subscribers average more trips than average male subscribers\n",
    "- the number of trips is increasing in the age group between 20 - 60"
   ]
  },
  {
   "cell_type": "code",
   "execution_count": 121,
   "id": "237e3e21",
   "metadata": {
    "slideshow": {
     "slide_type": "skip"
    }
   },
   "outputs": [],
   "source": [
    "Data.to_csv('Master_cleanBike_system.csv')"
   ]
  },
  {
   "cell_type": "code",
   "execution_count": 122,
   "id": "19f788c2",
   "metadata": {
    "slideshow": {
     "slide_type": "notes"
    }
   },
   "outputs": [
    {
     "name": "stderr",
     "output_type": "stream",
     "text": [
      "[NbConvertApp] Converting notebook slide_deck_template.ipynb to slides\n",
      "[NbConvertApp] Writing 1192235 bytes to slide_deck_template.slides.html\n"
     ]
    }
   ],
   "source": [
    "!jupyter nbconvert slide_deck_template.ipynb --to slides\n"
   ]
  },
  {
   "cell_type": "code",
   "execution_count": null,
   "id": "449aceef",
   "metadata": {
    "slideshow": {
     "slide_type": "notes"
    }
   },
   "outputs": [],
   "source": [
    "!jupyter nbconvert \"C:\\Users\\Bassa\\Desktop\\DAND\\Communicate Data Findings By Bassam Mohammed\\exploration_template.ipynb\" --to slides --post serve --no-input --no-prompt"
   ]
  },
  {
   "cell_type": "code",
   "execution_count": null,
   "id": "b4d77c71",
   "metadata": {
    "slideshow": {
     "slide_type": "notes"
    }
   },
   "outputs": [],
   "source": []
  },
  {
   "cell_type": "code",
   "execution_count": null,
   "id": "0b51b7f9",
   "metadata": {
    "collapsed": true,
    "slideshow": {
     "slide_type": "notes"
    }
   },
   "outputs": [],
   "source": []
  }
 ],
 "metadata": {
  "celltoolbar": "Slideshow",
  "kernelspec": {
   "display_name": "Python 3",
   "language": "python",
   "name": "python3"
  },
  "language_info": {
   "codemirror_mode": {
    "name": "ipython",
    "version": 3
   },
   "file_extension": ".py",
   "mimetype": "text/x-python",
   "name": "python",
   "nbconvert_exporter": "python",
   "pygments_lexer": "ipython3",
   "version": "3.8.8"
  }
 },
 "nbformat": 4,
 "nbformat_minor": 5
}
